{
 "cells": [
  {
   "cell_type": "code",
   "execution_count": 3,
   "metadata": {
    "collapsed": true
   },
   "outputs": [],
   "source": [
    "import os.path\n",
    "\n",
    "import pandas\n",
    "%matplotlib inline\n",
    "import matplotlib.pyplot as plt\n",
    "import numpy as np\n",
    "from pandas import DataFrame\n",
    "from tqdm import tqdm\n",
    "\n",
    "from soma.generators.age import AgeGenerator\n",
    "from soma.util.errors import compute_errors\n",
    "from soma.tests.som import som_test\n",
    "\n",
    "plt.style.use('seaborn')\n",
    "plt.style.use('seaborn-paper')"
   ]
  },
  {
   "cell_type": "code",
   "execution_count": 4,
   "outputs": [],
   "source": [
    "brackets = [\n",
    "    # First one repeated for cross-checking (\"error\" type 2 should be high)\n",
    "    (15, 20), (15, 20), (20, 25), (25, 30), (30, 35), (35, 40), (40, 45), (45, 50)\n",
    "]\n",
    "compare = list(zip(brackets[:-1], brackets[1:]))"
   ],
   "metadata": {
    "collapsed": false,
    "pycharm": {
     "name": "#%%\n"
    }
   }
  },
  {
   "cell_type": "code",
   "source": [
    "if os.path.exists('../results/age_errors.csv'):\n",
    "    print('Continue!')\n",
    "    results = pandas.read_csv('../results/age_errors.csv', index_col=0)\n",
    "else:\n",
    "    results = DataFrame(columns=['error1', 'error2', 'time'], index=map(str, compare))\n",
    "\n",
    "for ba, bb in compare:\n",
    "    if results.loc[str((ba, bb))]['time'] > 0:\n",
    "        print(f'Skipping {ba} {bb}')\n",
    "        continue\n",
    "    print(f'Running {ba} {bb}')\n",
    "    gen_a = AgeGenerator(*ba)\n",
    "    gen_b = AgeGenerator(*bb)\n",
    "    results.loc[str((ba, bb))].loc[:] = compute_errors(gen_a, gen_b, som_test, alpha=0.001, samples=500, repeat=500,\n",
    "                                                       return_duration=True)\n",
    "    results.to_csv('../results/age_errors.csv')"
   ],
   "metadata": {
    "collapsed": false,
    "pycharm": {
     "name": "#%%\n"
    }
   },
   "execution_count": 7,
   "outputs": [
    {
     "name": "stdout",
     "output_type": "stream",
     "text": [
      "Continue!\n",
      "Skipping (15, 20) (15, 20)\n",
      "Skipping (15, 20) (20, 25)\n",
      "Running (20, 25) (25, 30)\n"
     ]
    },
    {
     "ename": "KeyboardInterrupt",
     "evalue": "",
     "output_type": "error",
     "traceback": [
      "\u001B[0;31m---------------------------------------------------------------------------\u001B[0m",
      "\u001B[0;31mKeyboardInterrupt\u001B[0m                         Traceback (most recent call last)",
      "Input \u001B[0;32mIn [7]\u001B[0m, in \u001B[0;36m<module>\u001B[0;34m\u001B[0m\n\u001B[1;32m     12\u001B[0m gen_a \u001B[38;5;241m=\u001B[39m AgeGenerator(\u001B[38;5;241m*\u001B[39mba)\n\u001B[1;32m     13\u001B[0m gen_b \u001B[38;5;241m=\u001B[39m AgeGenerator(\u001B[38;5;241m*\u001B[39mbb)\n\u001B[0;32m---> 14\u001B[0m results\u001B[38;5;241m.\u001B[39mloc[\u001B[38;5;28mstr\u001B[39m((ba, bb))]\u001B[38;5;241m.\u001B[39mloc[:] \u001B[38;5;241m=\u001B[39m \u001B[43mcompute_errors\u001B[49m\u001B[43m(\u001B[49m\u001B[43mgen_a\u001B[49m\u001B[43m,\u001B[49m\u001B[43m \u001B[49m\u001B[43mgen_b\u001B[49m\u001B[43m,\u001B[49m\u001B[43m \u001B[49m\u001B[43msom_test\u001B[49m\u001B[43m,\u001B[49m\u001B[43m \u001B[49m\u001B[43malpha\u001B[49m\u001B[38;5;241;43m=\u001B[39;49m\u001B[38;5;241;43m0.001\u001B[39;49m\u001B[43m,\u001B[49m\u001B[43m \u001B[49m\u001B[43msamples\u001B[49m\u001B[38;5;241;43m=\u001B[39;49m\u001B[38;5;241;43m500\u001B[39;49m\u001B[43m,\u001B[49m\u001B[43m \u001B[49m\u001B[43mrepeat\u001B[49m\u001B[38;5;241;43m=\u001B[39;49m\u001B[38;5;241;43m500\u001B[39;49m\u001B[43m,\u001B[49m\n\u001B[1;32m     15\u001B[0m \u001B[43m                                                   \u001B[49m\u001B[43mreturn_duration\u001B[49m\u001B[38;5;241;43m=\u001B[39;49m\u001B[38;5;28;43;01mTrue\u001B[39;49;00m\u001B[43m)\u001B[49m\n\u001B[1;32m     16\u001B[0m results\u001B[38;5;241m.\u001B[39mto_csv(\u001B[38;5;124m'\u001B[39m\u001B[38;5;124m../results/age_errors.csv\u001B[39m\u001B[38;5;124m'\u001B[39m)\n",
      "File \u001B[0;32m~/Work/Projects/SOMA/soma/util/errors.py:25\u001B[0m, in \u001B[0;36mcompute_errors\u001B[0;34m(gen_a, gen_b, test, alpha, samples, repeat, return_duration)\u001B[0m\n\u001B[1;32m     23\u001B[0m b \u001B[38;5;241m=\u001B[39m gen_b\u001B[38;5;241m.\u001B[39msample(samples)\n\u001B[1;32m     24\u001B[0m start \u001B[38;5;241m=\u001B[39m perf_counter()\n\u001B[0;32m---> 25\u001B[0m ph0 \u001B[38;5;241m=\u001B[39m \u001B[43mtest\u001B[49m\u001B[43m(\u001B[49m\u001B[43ma\u001B[49m\u001B[43m,\u001B[49m\u001B[43m \u001B[49m\u001B[43ma2\u001B[49m\u001B[43m)\u001B[49m\n\u001B[1;32m     26\u001B[0m ph1 \u001B[38;5;241m=\u001B[39m test(a, b)\n\u001B[1;32m     27\u001B[0m end \u001B[38;5;241m=\u001B[39m perf_counter()\n",
      "File \u001B[0;32m~/Work/Projects/SOMA/soma/tests/som.py:13\u001B[0m, in \u001B[0;36msom_test\u001B[0;34m(a, b, size, ret_som, ret_counts, **kwargs)\u001B[0m\n\u001B[1;32m     11\u001B[0m c \u001B[38;5;241m=\u001B[39m np\u001B[38;5;241m.\u001B[39mconcatenate([a, b])\u001B[38;5;241m.\u001B[39mastype(np\u001B[38;5;241m.\u001B[39mfloat32)\n\u001B[1;32m     12\u001B[0m som \u001B[38;5;241m=\u001B[39m somoclu\u001B[38;5;241m.\u001B[39mSomoclu(size[\u001B[38;5;241m0\u001B[39m], size[\u001B[38;5;241m1\u001B[39m], \u001B[38;5;241m*\u001B[39m\u001B[38;5;241m*\u001B[39mkwargs)\n\u001B[0;32m---> 13\u001B[0m \u001B[43msom\u001B[49m\u001B[38;5;241;43m.\u001B[39;49m\u001B[43mtrain\u001B[49m\u001B[43m(\u001B[49m\u001B[43mc\u001B[49m\u001B[43m)\u001B[49m\n\u001B[1;32m     15\u001B[0m \u001B[38;5;66;03m# https://www.itl.nist.gov/div898/software/dataplot/refman1/auxillar/chi2samp.htm\u001B[39;00m\n\u001B[1;32m     16\u001B[0m ap \u001B[38;5;241m=\u001B[39m som\u001B[38;5;241m.\u001B[39mget_surface_state(a)\n",
      "File \u001B[0;32m/opt/miniconda3/envs/SOMA/lib/python3.9/site-packages/somoclu/train.py:222\u001B[0m, in \u001B[0;36mSomoclu.train\u001B[0;34m(self, data, epochs, radius0, radiusN, radiuscooling, scale0, scaleN, scalecooling)\u001B[0m\n\u001B[1;32m    220\u001B[0m \u001B[38;5;28mself\u001B[39m\u001B[38;5;241m.\u001B[39mumatrix\u001B[38;5;241m.\u001B[39mshape \u001B[38;5;241m=\u001B[39m (\u001B[38;5;28mself\u001B[39m\u001B[38;5;241m.\u001B[39m_n_rows \u001B[38;5;241m*\u001B[39m \u001B[38;5;28mself\u001B[39m\u001B[38;5;241m.\u001B[39m_n_columns, )\n\u001B[1;32m    221\u001B[0m \u001B[38;5;28mself\u001B[39m\u001B[38;5;241m.\u001B[39mbmus\u001B[38;5;241m.\u001B[39mshape \u001B[38;5;241m=\u001B[39m (\u001B[38;5;28mself\u001B[39m\u001B[38;5;241m.\u001B[39mn_vectors \u001B[38;5;241m*\u001B[39m \u001B[38;5;241m2\u001B[39m, )\n\u001B[0;32m--> 222\u001B[0m \u001B[43mwrap_train\u001B[49m\u001B[43m(\u001B[49m\u001B[43mnp\u001B[49m\u001B[38;5;241;43m.\u001B[39;49m\u001B[43mravel\u001B[49m\u001B[43m(\u001B[49m\u001B[38;5;28;43mself\u001B[39;49m\u001B[38;5;241;43m.\u001B[39;49m\u001B[43m_data\u001B[49m\u001B[43m)\u001B[49m\u001B[43m,\u001B[49m\u001B[43m \u001B[49m\u001B[43mepochs\u001B[49m\u001B[43m,\u001B[49m\u001B[43m \u001B[49m\u001B[38;5;28;43mself\u001B[39;49m\u001B[38;5;241;43m.\u001B[39;49m\u001B[43m_n_columns\u001B[49m\u001B[43m,\u001B[49m\u001B[43m \u001B[49m\u001B[38;5;28;43mself\u001B[39;49m\u001B[38;5;241;43m.\u001B[39;49m\u001B[43m_n_rows\u001B[49m\u001B[43m,\u001B[49m\n\u001B[1;32m    223\u001B[0m \u001B[43m           \u001B[49m\u001B[38;5;28;43mself\u001B[39;49m\u001B[38;5;241;43m.\u001B[39;49m\u001B[43mn_dim\u001B[49m\u001B[43m,\u001B[49m\u001B[43m \u001B[49m\u001B[38;5;28;43mself\u001B[39;49m\u001B[38;5;241;43m.\u001B[39;49m\u001B[43mn_vectors\u001B[49m\u001B[43m,\u001B[49m\u001B[43m \u001B[49m\u001B[43mradius0\u001B[49m\u001B[43m,\u001B[49m\u001B[43m \u001B[49m\u001B[43mradiusN\u001B[49m\u001B[43m,\u001B[49m\n\u001B[1;32m    224\u001B[0m \u001B[43m           \u001B[49m\u001B[43mradiuscooling\u001B[49m\u001B[43m,\u001B[49m\u001B[43m \u001B[49m\u001B[43mscale0\u001B[49m\u001B[43m,\u001B[49m\u001B[43m \u001B[49m\u001B[43mscaleN\u001B[49m\u001B[43m,\u001B[49m\u001B[43m \u001B[49m\u001B[43mscalecooling\u001B[49m\u001B[43m,\u001B[49m\n\u001B[1;32m    225\u001B[0m \u001B[43m           \u001B[49m\u001B[38;5;28;43mself\u001B[39;49m\u001B[38;5;241;43m.\u001B[39;49m\u001B[43m_kernel_type\u001B[49m\u001B[43m,\u001B[49m\u001B[43m \u001B[49m\u001B[38;5;28;43mself\u001B[39;49m\u001B[38;5;241;43m.\u001B[39;49m\u001B[43m_map_type\u001B[49m\u001B[43m,\u001B[49m\u001B[43m \u001B[49m\u001B[38;5;28;43mself\u001B[39;49m\u001B[38;5;241;43m.\u001B[39;49m\u001B[43m_grid_type\u001B[49m\u001B[43m,\u001B[49m\n\u001B[1;32m    226\u001B[0m \u001B[43m           \u001B[49m\u001B[38;5;28;43mself\u001B[39;49m\u001B[38;5;241;43m.\u001B[39;49m\u001B[43m_compact_support\u001B[49m\u001B[43m,\u001B[49m\u001B[43m \u001B[49m\u001B[38;5;28;43mself\u001B[39;49m\u001B[38;5;241;43m.\u001B[39;49m\u001B[43m_neighborhood\u001B[49m\u001B[43m \u001B[49m\u001B[38;5;241;43m==\u001B[39;49m\u001B[43m \u001B[49m\u001B[38;5;124;43m\"\u001B[39;49m\u001B[38;5;124;43mgaussian\u001B[39;49m\u001B[38;5;124;43m\"\u001B[39;49m\u001B[43m,\u001B[49m\n\u001B[1;32m    227\u001B[0m \u001B[43m           \u001B[49m\u001B[38;5;28;43mself\u001B[39;49m\u001B[38;5;241;43m.\u001B[39;49m\u001B[43m_std_coeff\u001B[49m\u001B[43m,\u001B[49m\u001B[43m \u001B[49m\u001B[38;5;28;43mself\u001B[39;49m\u001B[38;5;241;43m.\u001B[39;49m\u001B[43m_verbose\u001B[49m\u001B[43m,\u001B[49m\u001B[43m \u001B[49m\u001B[38;5;28;43mself\u001B[39;49m\u001B[38;5;241;43m.\u001B[39;49m\u001B[43mcodebook\u001B[49m\u001B[43m,\u001B[49m\u001B[43m \u001B[49m\u001B[38;5;28;43mself\u001B[39;49m\u001B[38;5;241;43m.\u001B[39;49m\u001B[43mbmus\u001B[49m\u001B[43m,\u001B[49m\n\u001B[1;32m    228\u001B[0m \u001B[43m           \u001B[49m\u001B[38;5;28;43mself\u001B[39;49m\u001B[38;5;241;43m.\u001B[39;49m\u001B[43mumatrix\u001B[49m\u001B[43m)\u001B[49m\n\u001B[1;32m    229\u001B[0m \u001B[38;5;28mself\u001B[39m\u001B[38;5;241m.\u001B[39mumatrix\u001B[38;5;241m.\u001B[39mshape \u001B[38;5;241m=\u001B[39m (\u001B[38;5;28mself\u001B[39m\u001B[38;5;241m.\u001B[39m_n_rows, \u001B[38;5;28mself\u001B[39m\u001B[38;5;241m.\u001B[39m_n_columns)\n\u001B[1;32m    230\u001B[0m \u001B[38;5;28mself\u001B[39m\u001B[38;5;241m.\u001B[39mbmus\u001B[38;5;241m.\u001B[39mshape \u001B[38;5;241m=\u001B[39m (\u001B[38;5;28mself\u001B[39m\u001B[38;5;241m.\u001B[39mn_vectors, \u001B[38;5;241m2\u001B[39m)\n",
      "\u001B[0;31mKeyboardInterrupt\u001B[0m: "
     ]
    }
   ]
  },
  {
   "cell_type": "code",
   "source": [
    "results"
   ],
   "metadata": {
    "collapsed": false,
    "pycharm": {
     "name": "#%%\n"
    }
   },
   "execution_count": 92,
   "outputs": [
    {
     "data": {
      "text/plain": "                     error1 error2      time\n((15, 20), (15, 20))    0.0    1.0  1.814923\n((15, 20), (20, 25))    0.0    0.0  1.810933\n((20, 25), (25, 30))    0.0    0.0  1.769004\n((25, 30), (30, 35))    0.0    0.0   1.77182\n((30, 35), (35, 40))    0.0    0.5  1.532741\n((35, 40), (40, 45))    0.0    1.0  1.960569\n((40, 45), (45, 50))    0.0    1.0  2.083811",
      "text/html": "<div>\n<style scoped>\n    .dataframe tbody tr th:only-of-type {\n        vertical-align: middle;\n    }\n\n    .dataframe tbody tr th {\n        vertical-align: top;\n    }\n\n    .dataframe thead th {\n        text-align: right;\n    }\n</style>\n<table border=\"1\" class=\"dataframe\">\n  <thead>\n    <tr style=\"text-align: right;\">\n      <th></th>\n      <th>error1</th>\n      <th>error2</th>\n      <th>time</th>\n    </tr>\n  </thead>\n  <tbody>\n    <tr>\n      <th>((15, 20), (15, 20))</th>\n      <td>0.0</td>\n      <td>1.0</td>\n      <td>1.814923</td>\n    </tr>\n    <tr>\n      <th>((15, 20), (20, 25))</th>\n      <td>0.0</td>\n      <td>0.0</td>\n      <td>1.810933</td>\n    </tr>\n    <tr>\n      <th>((20, 25), (25, 30))</th>\n      <td>0.0</td>\n      <td>0.0</td>\n      <td>1.769004</td>\n    </tr>\n    <tr>\n      <th>((25, 30), (30, 35))</th>\n      <td>0.0</td>\n      <td>0.0</td>\n      <td>1.77182</td>\n    </tr>\n    <tr>\n      <th>((30, 35), (35, 40))</th>\n      <td>0.0</td>\n      <td>0.5</td>\n      <td>1.532741</td>\n    </tr>\n    <tr>\n      <th>((35, 40), (40, 45))</th>\n      <td>0.0</td>\n      <td>1.0</td>\n      <td>1.960569</td>\n    </tr>\n    <tr>\n      <th>((40, 45), (45, 50))</th>\n      <td>0.0</td>\n      <td>1.0</td>\n      <td>2.083811</td>\n    </tr>\n  </tbody>\n</table>\n</div>"
     },
     "execution_count": 92,
     "metadata": {},
     "output_type": "execute_result"
    }
   ]
  },
  {
   "cell_type": "markdown",
   "source": [
    "# Visualization"
   ],
   "metadata": {
    "collapsed": false,
    "pycharm": {
     "name": "#%% md\n"
    }
   }
  },
  {
   "cell_type": "code",
   "execution_count": 64,
   "outputs": [],
   "source": [
    "gen_15_20 = AgeGenerator(15, 20)\n",
    "gen_20_25 = AgeGenerator(20, 25)\n",
    "\n",
    "g1520, g1520_age = gen_15_20.sample_with_age(10000)\n",
    "g2025, g2025_age = gen_20_25.sample_with_age(10000)"
   ],
   "metadata": {
    "collapsed": false,
    "pycharm": {
     "name": "#%%\n"
    }
   }
  },
  {
   "cell_type": "code",
   "execution_count": 65,
   "outputs": [
    {
     "data": {
      "text/plain": "0.0"
     },
     "execution_count": 65,
     "metadata": {},
     "output_type": "execute_result"
    }
   ],
   "source": [
    "p, som, (c15_20, c20_25) = som_test(g1520, g2025, (50,50),ret_som=True, ret_counts=True)\n",
    "p"
   ],
   "metadata": {
    "collapsed": false,
    "pycharm": {
     "name": "#%%\n"
    }
   }
  },
  {
   "cell_type": "code",
   "source": [
    "som.get_surface_state()\n",
    "bmus = som.get_bmus(som.activation_map)"
   ],
   "metadata": {
    "collapsed": false,
    "pycharm": {
     "name": "#%%\n"
    }
   },
   "execution_count": 66,
   "outputs": []
  },
  {
   "cell_type": "code",
   "execution_count": 67,
   "outputs": [
    {
     "name": "stderr",
     "output_type": "stream",
     "text": [
      "/tmp/ipykernel_94794/2197713141.py:8: RuntimeWarning: invalid value encountered in true_divide\n",
      "  image /= count\n"
     ]
    }
   ],
   "source": [
    "all_ages = np.concatenate([g1520_age, g2025_age])\n",
    "image = np.zeros_like(c15_20, dtype=float)\n",
    "count = np.zeros_like(c15_20, dtype=int)\n",
    "for i in range(len(bmus)):\n",
    "    x,y = bmus[i]\n",
    "    image[x,y] += all_ages[i]\n",
    "    count[x,y] += 1\n",
    "image /= count"
   ],
   "metadata": {
    "collapsed": false,
    "pycharm": {
     "name": "#%%\n"
    }
   }
  },
  {
   "cell_type": "code",
   "execution_count": 86,
   "outputs": [
    {
     "data": {
      "text/plain": "<Figure size 460.8x316.8 with 2 Axes>",
      "image/png": "[encoded data removed]"
     },
     "metadata": {},
     "output_type": "display_data"
    }
   ],
   "source": [
    "plt.figure()\n",
    "plt.imshow(image, cmap='Blues')\n",
    "plt.colorbar(label='Avg. Age')\n",
    "plt.grid(False)\n",
    "plt.savefig(os.path.expanduser('~/Plots/age_avg.eps'), bbox_inches='tight')"
   ],
   "metadata": {
    "collapsed": false,
    "pycharm": {
     "name": "#%%\n"
    }
   }
  },
  {
   "cell_type": "code",
   "execution_count": 84,
   "outputs": [
    {
     "data": {
      "text/plain": "<Figure size 460.8x316.8 with 2 Axes>",
      "image/png": "[encoded data removed]"
     },
     "metadata": {},
     "output_type": "display_data"
    }
   ],
   "source": [
    "delta = c15_20 - c20_25\n",
    "plt.imshow(delta, cmap='seismic', vmin=-np.abs(delta).max(), vmax=np.abs(delta).max())\n",
    "plt.colorbar()\n",
    "plt.grid(False)\n",
    "plt.savefig(os.path.expanduser('~/Plots/age_map.eps'), bbox_inches='tight')"
   ],
   "metadata": {
    "collapsed": false,
    "pycharm": {
     "name": "#%%\n"
    }
   }
  },
  {
   "cell_type": "code",
   "execution_count": null,
   "outputs": [],
   "source": [],
   "metadata": {
    "collapsed": false,
    "pycharm": {
     "name": "#%%\n"
    }
   }
  }
 ],
 "metadata": {
  "kernelspec": {
   "display_name": "Python 3",
   "language": "python",
   "name": "python3"
  },
  "language_info": {
   "codemirror_mode": {
    "name": "ipython",
    "version": 2
   },
   "file_extension": ".py",
   "mimetype": "text/x-python",
   "name": "python",
   "nbconvert_exporter": "python",
   "pygments_lexer": "ipython2",
   "version": "2.7.6"
  }
 },
 "nbformat": 4,
 "nbformat_minor": 0
}