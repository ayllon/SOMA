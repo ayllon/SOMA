{
 "cells": [
  {
   "cell_type": "code",
   "execution_count": 49,
   "metadata": {
    "collapsed": true
   },
   "outputs": [
    {
     "name": "stdout",
     "output_type": "stream",
     "text": [
      "The autoreload extension is already loaded. To reload it, use:\n",
      "  %reload_ext autoreload\n"
     ]
    }
   ],
   "source": [
    "% matplotlib inline\n",
    "from pandas import DataFrame\n",
    "from tqdm import tqdm\n",
    "\n",
    "% load_ext autoreload\n",
    "% autoreload 2\n",
    "from soma.generators.age import AgeGenerator\n",
    "from soma.util.errors import compute_errors\n",
    "from soma.tests.som import som_test"
   ]
  },
  {
   "cell_type": "code",
   "execution_count": 55,
   "outputs": [],
   "source": [
    "brackets = [\n",
    "    (15, 20), (20, 25), (25, 30), (30, 35), (35, 40), (40, 45), (45, 50)\n",
    "]\n",
    "compare = list(zip(brackets[:-1], brackets[1:]))"
   ],
   "metadata": {
    "collapsed": false,
    "pycharm": {
     "name": "#%%\n"
    }
   }
  },
  {
   "cell_type": "code",
   "execution_count": 71,
   "outputs": [
    {
     "name": "stderr",
     "output_type": "stream",
     "text": [
      "  0%|          | 0/6 [00:00<?, ?it/s]"
     ]
    },
    {
     "name": "stdout",
     "output_type": "stream",
     "text": [
      "Sampling\n",
      "Testing\n",
      "Sampling\n",
      "Testing\n"
     ]
    },
    {
     "name": "stderr",
     "output_type": "stream",
     "text": [
      " 17%|█▋        | 1/6 [00:46<03:52, 46.53s/it]"
     ]
    },
    {
     "name": "stdout",
     "output_type": "stream",
     "text": [
      "Sampling\n",
      "Testing\n",
      "Sampling\n",
      "Testing\n"
     ]
    },
    {
     "name": "stderr",
     "output_type": "stream",
     "text": [
      " 33%|███▎      | 2/6 [01:35<03:12, 48.05s/it]"
     ]
    },
    {
     "name": "stdout",
     "output_type": "stream",
     "text": [
      "Sampling\n",
      "Testing\n",
      "Sampling\n",
      "Testing\n"
     ]
    },
    {
     "name": "stderr",
     "output_type": "stream",
     "text": [
      " 50%|█████     | 3/6 [02:21<02:20, 46.83s/it]"
     ]
    },
    {
     "name": "stdout",
     "output_type": "stream",
     "text": [
      "Sampling\n",
      "Testing\n",
      "Sampling\n",
      "Testing\n"
     ]
    },
    {
     "name": "stderr",
     "output_type": "stream",
     "text": [
      " 67%|██████▋   | 4/6 [03:12<01:37, 48.52s/it]"
     ]
    },
    {
     "name": "stdout",
     "output_type": "stream",
     "text": [
      "Sampling\n",
      "Testing\n",
      "Sampling\n",
      "Testing\n"
     ]
    },
    {
     "name": "stderr",
     "output_type": "stream",
     "text": [
      " 83%|████████▎ | 5/6 [04:04<00:49, 49.96s/it]"
     ]
    },
    {
     "name": "stdout",
     "output_type": "stream",
     "text": [
      "Sampling\n",
      "Testing\n",
      "Sampling\n",
      "Testing\n"
     ]
    },
    {
     "name": "stderr",
     "output_type": "stream",
     "text": [
      "100%|██████████| 6/6 [04:57<00:00, 49.59s/it]\n"
     ]
    }
   ],
   "source": [
    "results = DataFrame(columns=['error1', 'error2', 'time'], index=map(str, compare))\n",
    "for ba, bb in tqdm(compare):\n",
    "    gen_a = AgeGenerator(*ba)\n",
    "    gen_b = AgeGenerator(*bb)\n",
    "    results.loc[str((ba, bb))].loc[:] = compute_errors(gen_a, gen_b, som_test, alpha=0.001, samples=500, repeat=500,\n",
    "                                                       return_duration=True)"
   ],
   "metadata": {
    "collapsed": false,
    "pycharm": {
     "name": "#%%\n"
    }
   }
  },
  {
   "cell_type": "code",
   "execution_count": 73,
   "outputs": [
    {
     "data": {
      "text/plain": "                     error1 error2      time\n((15, 20), (20, 25))    0.0    1.0  0.286947\n((20, 25), (25, 30))    0.0    1.0  0.321968\n((25, 30), (30, 35))    0.0    1.0  0.296267\n((30, 35), (35, 40))    0.0    1.0  0.331925\n((35, 40), (40, 45))    0.0    1.0    0.3652\n((40, 45), (45, 50))    0.0    1.0  0.290279",
      "text/html": "<div>\n<style scoped>\n    .dataframe tbody tr th:only-of-type {\n        vertical-align: middle;\n    }\n\n    .dataframe tbody tr th {\n        vertical-align: top;\n    }\n\n    .dataframe thead th {\n        text-align: right;\n    }\n</style>\n<table border=\"1\" class=\"dataframe\">\n  <thead>\n    <tr style=\"text-align: right;\">\n      <th></th>\n      <th>error1</th>\n      <th>error2</th>\n      <th>time</th>\n    </tr>\n  </thead>\n  <tbody>\n    <tr>\n      <th>((15, 20), (20, 25))</th>\n      <td>0.0</td>\n      <td>1.0</td>\n      <td>0.286947</td>\n    </tr>\n    <tr>\n      <th>((20, 25), (25, 30))</th>\n      <td>0.0</td>\n      <td>1.0</td>\n      <td>0.321968</td>\n    </tr>\n    <tr>\n      <th>((25, 30), (30, 35))</th>\n      <td>0.0</td>\n      <td>1.0</td>\n      <td>0.296267</td>\n    </tr>\n    <tr>\n      <th>((30, 35), (35, 40))</th>\n      <td>0.0</td>\n      <td>1.0</td>\n      <td>0.331925</td>\n    </tr>\n    <tr>\n      <th>((35, 40), (40, 45))</th>\n      <td>0.0</td>\n      <td>1.0</td>\n      <td>0.3652</td>\n    </tr>\n    <tr>\n      <th>((40, 45), (45, 50))</th>\n      <td>0.0</td>\n      <td>1.0</td>\n      <td>0.290279</td>\n    </tr>\n  </tbody>\n</table>\n</div>"
     },
     "execution_count": 73,
     "metadata": {},
     "output_type": "execute_result"
    }
   ],
   "source": [
    "results"
   ],
   "metadata": {
    "collapsed": false,
    "pycharm": {
     "name": "#%%\n"
    }
   }
  },
  {
   "cell_type": "code",
   "execution_count": null,
   "outputs": [],
   "source": [],
   "metadata": {
    "collapsed": false,
    "pycharm": {
     "name": "#%%\n"
    }
   }
  }
 ],
 "metadata": {
  "kernelspec": {
   "display_name": "Python 3",
   "language": "python",
   "name": "python3"
  },
  "language_info": {
   "codemirror_mode": {
    "name": "ipython",
    "version": 2
   },
   "file_extension": ".py",
   "mimetype": "text/x-python",
   "name": "python",
   "nbconvert_exporter": "python",
   "pygments_lexer": "ipython2",
   "version": "2.7.6"
  }
 },
 "nbformat": 4,
 "nbformat_minor": 0
}