{
 "cells": [
  {
   "cell_type": "code",
   "execution_count": 2,
   "metadata": {
    "collapsed": true
   },
   "outputs": [],
   "source": [
    "import os.path\n",
    "\n",
    "import pandas\n",
    "%matplotlib inline\n",
    "import matplotlib.pyplot as plt\n",
    "import numpy as np\n",
    "from pandas import DataFrame\n",
    "\n",
    "from soma.generators.age import AgeGenerator\n",
    "from soma.util.errors import compute_errors\n",
    "from soma.tests.som import som_test\n",
    "\n",
    "plt.style.use('seaborn')\n",
    "plt.style.use('seaborn-paper')"
   ]
  },
  {
   "cell_type": "code",
   "execution_count": 3,
   "outputs": [],
   "source": [
    "brackets = [\n",
    "    # First one repeated for cross-checking (\"error\" type 2 should be high)\n",
    "    (15, 20), (15, 20), (20, 25), (25, 30), (30, 35), (35, 40), (40, 45), (45, 50)\n",
    "]\n",
    "compare = list(zip(brackets[:-1], brackets[1:]))"
   ],
   "metadata": {
    "collapsed": false,
    "pycharm": {
     "name": "#%%\n"
    }
   }
  },
  {
   "cell_type": "code",
   "source": [
    "if os.path.exists('../results/age_errors.csv'):\n",
    "    print('Continue!')\n",
    "    results = pandas.read_csv('../results/age_errors.csv', index_col=0)\n",
    "else:\n",
    "    results = DataFrame(columns=['error1', 'error2', 'time'], index=map(str, compare))\n",
    "\n",
    "for ba, bb in compare:\n",
    "    if results.loc[str((ba, bb))]['time'] > 0:\n",
    "        print(f'Skipping {ba} {bb}')\n",
    "        continue\n",
    "    print(f'Running {ba} {bb}')\n",
    "    gen_a = AgeGenerator(*ba)\n",
    "    gen_b = AgeGenerator(*bb)\n",
    "    results.loc[str((ba, bb))].loc[:] = compute_errors(gen_a, gen_b, som_test, alpha=0.001, samples=500, repeat=500,\n",
    "                                                       return_duration=True)\n",
    "    results.to_csv('../results/age_errors.csv')"
   ],
   "metadata": {
    "collapsed": false,
    "pycharm": {
     "name": "#%%\n"
    }
   },
   "execution_count": 4,
   "outputs": [
    {
     "name": "stdout",
     "output_type": "stream",
     "text": [
      "Continue!\n",
      "Skipping (15, 20) (15, 20)\n",
      "Skipping (15, 20) (20, 25)\n",
      "Skipping (20, 25) (25, 30)\n",
      "Skipping (25, 30) (30, 35)\n",
      "Skipping (30, 35) (35, 40)\n",
      "Skipping (35, 40) (40, 45)\n",
      "Skipping (40, 45) (45, 50)\n"
     ]
    }
   ]
  },
  {
   "cell_type": "code",
   "source": [
    "results['power'] = 1 - results['error2']"
   ],
   "metadata": {
    "collapsed": false,
    "pycharm": {
     "name": "#%%\n"
    }
   },
   "execution_count": 5,
   "outputs": []
  },
  {
   "cell_type": "code",
   "execution_count": 7,
   "outputs": [
    {
     "name": "stdout",
     "output_type": "stream",
     "text": [
      "\\begin{tabular}{lrrrr}\n",
      "\\toprule\n",
      "{} &  error1 &  error2 &      time &  power \\\\\n",
      "\\midrule\n",
      "((15, 20), (15, 20)) &   0.000 &   1.000 &  5.605129 &  0.000 \\\\\n",
      "((15, 20), (20, 25)) &   0.000 &   0.000 &  5.607205 &  1.000 \\\\\n",
      "((20, 25), (25, 30)) &   0.000 &   0.010 &  5.640037 &  0.990 \\\\\n",
      "((25, 30), (30, 35)) &   0.002 &   0.274 &  5.586923 &  0.726 \\\\\n",
      "((30, 35), (35, 40)) &   0.000 &   0.188 &  5.585581 &  0.812 \\\\\n",
      "((35, 40), (40, 45)) &   0.000 &   0.436 &  5.585258 &  0.564 \\\\\n",
      "((40, 45), (45, 50)) &   0.000 &   0.394 &  5.590803 &  0.606 \\\\\n",
      "\\bottomrule\n",
      "\\end{tabular}\n",
      "\n"
     ]
    }
   ],
   "source": [
    "print(results.to_latex())"
   ],
   "metadata": {
    "collapsed": false,
    "pycharm": {
     "name": "#%%\n"
    }
   }
  },
  {
   "cell_type": "markdown",
   "source": [
    "# Visualization (mean)"
   ],
   "metadata": {
    "collapsed": false
   }
  },
  {
   "cell_type": "code",
   "execution_count": 2,
   "outputs": [],
   "source": [
    "gen_35_40 = AgeGenerator(35, 40)\n",
    "gen_40_45 = AgeGenerator(40, 45)\n",
    "\n",
    "g3540, g3540_age = gen_35_40.sample_with_age(10000)\n",
    "g4045, g4045_age = gen_40_45.sample_with_age(10000)"
   ],
   "metadata": {
    "collapsed": false,
    "pycharm": {
     "name": "#%%\n"
    }
   }
  },
  {
   "cell_type": "code",
   "execution_count": 20,
   "outputs": [
    {
     "data": {
      "text/plain": "0.0"
     },
     "execution_count": 20,
     "metadata": {},
     "output_type": "execute_result"
    }
   ],
   "source": [
    "p, som, (c3540, c4045) = som_test(g3540, g4045, (25, 25), ret_som=True, ret_counts=True)\n",
    "p"
   ],
   "metadata": {
    "collapsed": false,
    "pycharm": {
     "name": "#%%\n"
    }
   }
  },
  {
   "cell_type": "code",
   "execution_count": 21,
   "outputs": [],
   "source": [
    "som.get_surface_state()\n",
    "bmus = som.get_bmus(som.activation_map)"
   ],
   "metadata": {
    "collapsed": false,
    "pycharm": {
     "name": "#%%\n"
    }
   }
  },
  {
   "cell_type": "code",
   "execution_count": 22,
   "outputs": [],
   "source": [
    "all_ages = np.concatenate([g3540_age, g4045_age])\n",
    "image = np.zeros_like(c3540, dtype=float)\n",
    "count = np.zeros_like(c3540, dtype=int)\n",
    "for i in range(len(bmus)):\n",
    "    x,y = bmus[i]\n",
    "    image[x,y] += all_ages[i]\n",
    "    count[x,y] += 1\n",
    "image /= count"
   ],
   "metadata": {
    "collapsed": false,
    "pycharm": {
     "name": "#%%\n"
    }
   }
  },
  {
   "cell_type": "code",
   "execution_count": 23,
   "outputs": [
    {
     "data": {
      "text/plain": "<Figure size 460.8x316.8 with 2 Axes>",
      "image/png": "[encoded data removed]"
     },
     "metadata": {},
     "output_type": "display_data"
    }
   ],
   "source": [
    "plt.figure()\n",
    "plt.imshow(image, cmap='Blues')\n",
    "plt.colorbar(label='Avg. Age')\n",
    "plt.grid(False)\n",
    "plt.savefig(os.path.expanduser('~/Plots/age_avg.eps'), bbox_inches='tight')"
   ],
   "metadata": {
    "collapsed": false,
    "pycharm": {
     "name": "#%%\n"
    }
   }
  },
  {
   "cell_type": "code",
   "execution_count": 48,
   "outputs": [
    {
     "data": {
      "text/plain": "<Figure size 460.8x316.8 with 2 Axes>",
      "image/png": "[encoded data removed]"
     },
     "metadata": {},
     "output_type": "display_data"
    }
   ],
   "source": [
    "delta = (c3540 - c4045) / (c3540 + c4045)\n",
    "plt.imshow(delta, cmap='PiYG', vmin=-1, vmax=1)\n",
    "plt.colorbar()\n",
    "plt.grid(False)\n",
    "plt.savefig(os.path.expanduser('~/Plots/age_map.eps'), bbox_inches='tight')"
   ],
   "metadata": {
    "collapsed": false,
    "pycharm": {
     "name": "#%%\n"
    }
   }
  },
  {
   "cell_type": "code",
   "execution_count": 25,
   "outputs": [
    {
     "data": {
      "text/plain": "<Figure size 460.8x316.8 with 2 Axes>",
      "image/png": "[encoded data removed]"
     },
     "metadata": {},
     "output_type": "display_data"
    }
   ],
   "source": [
    "fig, axes = plt.subplots(ncols=2)\n",
    "axes[0].imshow(c3540, cmap='viridis')\n",
    "axes[0].grid(False)\n",
    "i = axes[1].imshow(c4045, cmap='viridis')\n",
    "axes[1].grid(False)\n",
    "fig.savefig(os.path.expanduser('~/Plots/age_both.eps'), bbox_inches='tight')"
   ],
   "metadata": {
    "collapsed": false,
    "pycharm": {
     "name": "#%%\n"
    }
   }
  },
  {
   "cell_type": "markdown",
   "source": [
    "# Visualization (scale)"
   ],
   "metadata": {
    "collapsed": false,
    "pycharm": {
     "name": "#%% md\n"
    }
   }
  },
  {
   "cell_type": "code",
   "execution_count": 2,
   "outputs": [],
   "source": [
    "gen_30_40 = AgeGenerator(30, 40)\n",
    "gen_20_50 = AgeGenerator(20, 50)\n",
    "\n",
    "g3040, g3040_age = gen_30_40.sample_with_age(5000)\n",
    "g2050, g2050_age = gen_20_50.sample_with_age(5000)"
   ],
   "metadata": {
    "collapsed": false,
    "pycharm": {
     "name": "#%%\n"
    }
   }
  },
  {
   "cell_type": "code",
   "execution_count": null,
   "outputs": [],
   "source": [
    "p_scale, som_scale, (c3040, c2050) = som_test(g3040, g2050, (50, 90), ret_som=True, ret_counts=True)\n",
    "p_scale"
   ],
   "metadata": {
    "collapsed": false,
    "pycharm": {
     "name": "#%%\n",
     "is_executing": true
    }
   }
  },
  {
   "cell_type": "code",
   "source": [
    "som_scale.get_surface_state()\n",
    "bmus_scale = som_scale.get_bmus(som_scale.activation_map)"
   ],
   "metadata": {
    "collapsed": false,
    "pycharm": {
     "name": "#%%\n",
     "is_executing": true
    }
   },
   "execution_count": null,
   "outputs": []
  },
  {
   "cell_type": "code",
   "execution_count": null,
   "outputs": [],
   "source": [
    "all_ages = np.concatenate([g3040_age, g2050_age])\n",
    "image = np.zeros_like(c3040, dtype=float)\n",
    "count = np.zeros_like(c3040, dtype=int)\n",
    "for i in range(len(bmus_scale)):\n",
    "    x,y = bmus_scale[i]\n",
    "    image[x,y] += all_ages[i]\n",
    "    count[x,y] += 1\n",
    "image /= count"
   ],
   "metadata": {
    "collapsed": false,
    "pycharm": {
     "name": "#%%\n",
     "is_executing": true
    }
   }
  },
  {
   "cell_type": "code",
   "execution_count": null,
   "outputs": [],
   "source": [
    "plt.figure()\n",
    "plt.imshow(image, cmap='Blues')\n",
    "plt.colorbar(label='Avg. Age')\n",
    "plt.grid(False)\n",
    "plt.savefig(os.path.expanduser('~/Plots/age_avg_scale.eps'), bbox_inches='tight')"
   ],
   "metadata": {
    "collapsed": false,
    "pycharm": {
     "name": "#%%\n",
     "is_executing": true
    }
   }
  },
  {
   "cell_type": "code",
   "execution_count": null,
   "outputs": [],
   "source": [
    "delta = (c3040 - c2050) / (c3040 + c2050)\n",
    "plt.imshow(delta, cmap='PiYG', vmin=-1, vmax=1)\n",
    "plt.colorbar()\n",
    "plt.grid(False)\n",
    "plt.savefig(os.path.expanduser('~/Plots/age_map_scale.eps'), bbox_inches='tight')"
   ],
   "metadata": {
    "collapsed": false,
    "pycharm": {
     "name": "#%%\n",
     "is_executing": true
    }
   }
  },
  {
   "cell_type": "code",
   "execution_count": null,
   "outputs": [],
   "source": [
    "c2050==0"
   ],
   "metadata": {
    "collapsed": false,
    "pycharm": {
     "name": "#%%\n",
     "is_executing": true
    }
   }
  },
  {
   "cell_type": "code",
   "execution_count": null,
   "outputs": [],
   "source": [
    "fig, axes = plt.subplots(ncols=2)\n",
    "axes[0].imshow(c3040, cmap='viridis')\n",
    "axes[0].grid(False)\n",
    "i = axes[1].imshow(c2050, cmap='viridis')\n",
    "axes[1].grid(False)\n",
    "fig.savefig(os.path.expanduser('~/Plots/age_both_scale.eps'), bbox_inches='tight')"
   ],
   "metadata": {
    "collapsed": false,
    "pycharm": {
     "name": "#%%\n",
     "is_executing": true
    }
   }
  },
  {
   "cell_type": "code",
   "execution_count": null,
   "outputs": [],
   "source": [],
   "metadata": {
    "collapsed": false,
    "pycharm": {
     "name": "#%%\n"
    }
   }
  }
 ],
 "metadata": {
  "kernelspec": {
   "display_name": "Python 3",
   "language": "python",
   "name": "python3"
  },
  "language_info": {
   "codemirror_mode": {
    "name": "ipython",
    "version": 2
   },
   "file_extension": ".py",
   "mimetype": "text/x-python",
   "name": "python",
   "nbconvert_exporter": "python",
   "pygments_lexer": "ipython2",
   "version": "2.7.6"
  }
 },
 "nbformat": 4,
 "nbformat_minor": 0
}