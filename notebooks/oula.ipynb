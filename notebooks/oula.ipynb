{
 "cells": [
  {
   "cell_type": "code",
   "execution_count": 1,
   "metadata": {
    "collapsed": true
   },
   "outputs": [],
   "source": [
    "import os.path\n",
    "%matplotlib inline\n",
    "import warnings\n",
    "\n",
    "import matplotlib.pyplot as plt\n",
    "import numpy as np\n",
    "import pandas\n",
    "from sklearn.preprocessing import normalize\n",
    "\n",
    "from soma.tests.som import som_test\n",
    "\n",
    "plt.style.use('seaborn')\n",
    "plt.style.use('seaborn-paper')"
   ]
  },
  {
   "cell_type": "markdown",
   "metadata": {
    "pycharm": {
     "name": "#%% md\n"
    }
   },
   "source": [
    "Dataset from https://analyse.kmi.open.ac.uk/open_dataset\n",
    "\n",
    "The SOM test can tell me if P=Q or not.\n",
    "\n",
    "In this case, $P=Q$ imply that the samples come from the same population.\n",
    "\n",
    "Let's start by defining (arguably) sensitive attributes:\n",
    "\n",
    "1. `disability`\n",
    "2. `imd_band` (i.e. poverty)\n",
    "\n",
    "Can we infer something about those given gender, education age and/or region? (Well, without looking I can guess)\n",
    "What would the $H_0$ be? Well, region is almost surely going to leak `imd_band`. But maybe we can get a hint\n",
    "at the specific student ids and cross them with some of the other tables?\n",
    "\n",
    "Let's start with that idea and we can iterate later."
   ]
  },
  {
   "cell_type": "code",
   "execution_count": 2,
   "metadata": {
    "pycharm": {
     "name": "#%%\n"
    }
   },
   "outputs": [],
   "source": [
    "# Load dataset\n",
    "sinfo = pandas.read_csv('../soma/generators/data/oula/studentInfo.csv')\n",
    "sinfo.dropna(inplace=True)"
   ]
  },
  {
   "cell_type": "code",
   "execution_count": 3,
   "outputs": [],
   "source": [
    "age = np.asarray(['0-35', '35-55', '55<='])\n",
    "education = np.asarray(['No Formal quals', 'Lower Than A Level', 'A Level or Equivalent', 'HE Qualification', 'Post Graduate Qualification'])\n",
    "imd = np.asarray(['0-10%', '10-20', '20-30%', '30-40%', '40-50%', '50-60%', '60-70%', '70-80%', '80-90%', '90-100%'])"
   ],
   "metadata": {
    "collapsed": false,
    "pycharm": {
     "name": "#%%\n"
    }
   }
  },
  {
   "cell_type": "code",
   "execution_count": 4,
   "metadata": {
    "pycharm": {
     "name": "#%%\n"
    }
   },
   "outputs": [
    {
     "data": {
      "text/plain": "(31482, 4)"
     },
     "execution_count": 4,
     "metadata": {},
     "output_type": "execute_result"
    }
   ],
   "source": [
    "# Make the attributes numeric so this thing works\n",
    "gender, gender_int = np.unique(sinfo['gender'], return_inverse=True)\n",
    "region, region_int = np.unique(sinfo['region'], return_inverse=True)\n",
    "education_int = sinfo['highest_education'].replace(education, np.arange(len(education)))\n",
    "age_int = sinfo['age_band'].replace(age, np.arange(len(age)))\n",
    "imd_int = sinfo['imd_band'].replace(imd, np.arange(len(imd)))\n",
    "dis, dis_int = np.unique(sinfo['disability'], return_inverse=True)\n",
    "\n",
    "features_int = np.stack([gender_int, region_int, age_int, education_int], axis=-1)\n",
    "features_int.shape"
   ]
  },
  {
   "cell_type": "code",
   "execution_count": 5,
   "metadata": {
    "pycharm": {
     "name": "#%%\n"
    }
   },
   "outputs": [],
   "source": [
    "features = normalize(features_int, axis=0)"
   ]
  },
  {
   "cell_type": "code",
   "execution_count": 6,
   "metadata": {
    "pycharm": {
     "name": "#%%\n"
    }
   },
   "outputs": [
    {
     "data": {
      "text/plain": "390"
     },
     "execution_count": 6,
     "metadata": {},
     "output_type": "execute_result"
    }
   ],
   "source": [
    "len(gender) * len(region) * len(age) * len(education)"
   ]
  },
  {
   "cell_type": "code",
   "execution_count": 7,
   "metadata": {
    "pycharm": {
     "name": "#%%\n"
    }
   },
   "outputs": [],
   "source": [
    "# Let's ask for high poverty\n",
    "low_imd_mask = (imd_int == 0)\n",
    "low_imd_feat = features[low_imd_mask]\n",
    "low_imd_feat_int = features_int[low_imd_mask]"
   ]
  },
  {
   "cell_type": "markdown",
   "metadata": {
    "pycharm": {
     "name": "#%% md\n"
    }
   },
   "source": [
    "## Cross-check, two random samples of the whole population should fail to reject $H_0$"
   ]
  },
  {
   "cell_type": "code",
   "execution_count": 8,
   "metadata": {
    "pycharm": {
     "name": "#%%\n"
    }
   },
   "outputs": [
    {
     "data": {
      "text/plain": "0.041209302124810554"
     },
     "execution_count": 8,
     "metadata": {},
     "output_type": "execute_result"
    }
   ],
   "source": [
    "p, som, (counts_all, counts_sample) = som_test(features[np.random.choice(len(features), len(low_imd_feat))],\n",
    "                                               features[np.random.choice(len(features), len(low_imd_feat))],\n",
    "                                               size=(20, 20), ret_som=True, ret_counts=True)\n",
    "p"
   ]
  },
  {
   "cell_type": "markdown",
   "metadata": {},
   "source": [
    "$H_0$ can not be rejected."
   ]
  },
  {
   "cell_type": "code",
   "execution_count": 9,
   "metadata": {
    "pycharm": {
     "name": "#%%\n"
    }
   },
   "outputs": [
    {
     "data": {
      "text/plain": "<Figure size 460.8x316.8 with 2 Axes>",
      "image/png": "[encoded data removed]"
     },
     "metadata": {},
     "output_type": "display_data"
    }
   ],
   "source": [
    "fig, axes = plt.subplots(ncols=2)\n",
    "axes[0].imshow(counts_all)\n",
    "axes[1].imshow(counts_sample)\n",
    "plt.show()"
   ]
  },
  {
   "cell_type": "markdown",
   "metadata": {
    "pycharm": {
     "name": "#%% md\n"
    }
   },
   "source": [
    "## Hypothesis test"
   ]
  },
  {
   "cell_type": "code",
   "execution_count": 10,
   "metadata": {
    "pycharm": {
     "name": "#%%\n"
    }
   },
   "outputs": [
    {
     "data": {
      "text/plain": "0.0"
     },
     "execution_count": 10,
     "metadata": {},
     "output_type": "execute_result"
    }
   ],
   "source": [
    "general_sample = features[np.random.choice(len(features), len(low_imd_feat))]\n",
    "low_imd_feat_sample = low_imd_feat\n",
    "\n",
    "p, som, (counts_all, counts_low_imd) = som_test(general_sample, low_imd_feat_sample, size=(10, 10), ret_som=True,\n",
    "                                                ret_counts=True)\n",
    "p"
   ]
  },
  {
   "cell_type": "markdown",
   "metadata": {},
   "source": [
    "$H_0$ can be rejected with a high significance level. We can accept instead the alternative hypothesis: the distribution of the QI for low income differ"
   ]
  },
  {
   "cell_type": "code",
   "execution_count": 11,
   "metadata": {
    "pycharm": {
     "name": "#%%\n"
    }
   },
   "outputs": [
    {
     "data": {
      "text/plain": "<Figure size 460.8x316.8 with 2 Axes>",
      "image/png": "[encoded data removed]"
     },
     "metadata": {},
     "output_type": "display_data"
    }
   ],
   "source": [
    "fig, axes = plt.subplots(ncols=2)\n",
    "axes[0].imshow(counts_all)\n",
    "axes[0].set_title('General population')\n",
    "axes[1].imshow(counts_low_imd)\n",
    "axes[1].set_title('Low IMD')\n",
    "axes[0].grid(False)\n",
    "axes[1].grid(False)\n",
    "plt.savefig(os.path.expanduser('~/Plots/imd.eps'), bbox_inches='tight')\n",
    "plt.show()"
   ]
  },
  {
   "cell_type": "markdown",
   "metadata": {
    "pycharm": {
     "name": "#%% raw\n"
    }
   },
   "source": [
    "They do look different."
   ]
  },
  {
   "cell_type": "code",
   "execution_count": 12,
   "metadata": {
    "pycharm": {
     "name": "#%%\n"
    }
   },
   "outputs": [
    {
     "name": "stderr",
     "output_type": "stream",
     "text": [
      "/tmp/ipykernel_47304/2034441955.py:7: MatplotlibDeprecationWarning: You are modifying the state of a globally registered colormap. In future versions, you will not be able to modify a registered colormap in-place. To remove this warning, you can make a copy of the colormap first. cmap = copy.copy(mpl.cm.get_cmap(\"jet\"))\n",
      "  cmap.set_bad('white',1.)\n"
     ]
    },
    {
     "data": {
      "text/plain": "<Figure size 460.8x316.8 with 2 Axes>",
      "image/png": "[encoded data removed]"
     },
     "metadata": {},
     "output_type": "display_data"
    }
   ],
   "source": [
    "import matplotlib\n",
    "\n",
    "with warnings.catch_warnings():\n",
    "    warnings.filterwarnings(\"ignore\")\n",
    "    chi2 = (counts_low_imd - counts_all) / (counts_low_imd + counts_all)\n",
    "cmap = matplotlib.cm.jet\n",
    "cmap.set_bad('white',1.)\n",
    "plt.imshow(chi2, cmap=cmap)\n",
    "plt.colorbar()\n",
    "plt.grid(False)\n",
    "plt.savefig(os.path.expanduser('~/Plots/imd_chi2.eps'), bbox_inches='tight')\n",
    "plt.show()"
   ]
  },
  {
   "cell_type": "markdown",
   "metadata": {
    "pycharm": {
     "name": "#%% md\n"
    }
   },
   "source": [
    "The more extremes are the most interesting.\n",
    "* 1 would mean all are (very) poor\n",
    "* -1 would mean there aren't any (very) poor."
   ]
  },
  {
   "cell_type": "markdown",
   "metadata": {
    "pycharm": {
     "name": "#%% md\n"
    }
   },
   "source": [
    "### Can we guess who is likely to be poor?"
   ]
  },
  {
   "cell_type": "code",
   "execution_count": 13,
   "metadata": {
    "pycharm": {
     "name": "#%%\n"
    }
   },
   "outputs": [
    {
     "data": {
      "text/plain": "(0.6176470588235294, -1.0)"
     },
     "execution_count": 13,
     "metadata": {},
     "output_type": "execute_result"
    }
   ],
   "source": [
    "np.nanmax(chi2), np.nanmin(chi2)"
   ]
  },
  {
   "cell_type": "code",
   "execution_count": 14,
   "metadata": {
    "pycharm": {
     "name": "#%%\n"
    }
   },
   "outputs": [
    {
     "data": {
      "text/plain": "array([[ 0,  5,  1,  1, 43],\n       [ 0,  4,  1,  1,  7],\n       [ 0,  5,  1,  0,  5]])"
     },
     "execution_count": 14,
     "metadata": {},
     "output_type": "execute_result"
    }
   ],
   "source": [
    "#[gender_int, region_int, education_int, age_int]\n",
    "idxs = np.argwhere((som.bmus == np.flip(np.unravel_index(np.nanargmax(chi2), chi2.shape))).all(axis=1)).ravel()\n",
    "idxs = idxs[idxs > len(general_sample)] - len(general_sample)\n",
    "uni, counts = np.unique(low_imd_feat_int[idxs], axis=0, return_counts=True)\n",
    "np.column_stack([uni, counts])[np.flip(np.argsort(counts))]"
   ]
  },
  {
   "cell_type": "code",
   "execution_count": 32,
   "metadata": {
    "pycharm": {
     "name": "#%%\n"
    }
   },
   "outputs": [
    {
     "data": {
      "text/plain": "('F', 'North Western Region', '35-55', 'No Formal quals')"
     },
     "execution_count": 32,
     "metadata": {},
     "output_type": "execute_result"
    }
   ],
   "source": [
    "gender[0], region[5], age[1], education[0]"
   ]
  },
  {
   "cell_type": "code",
   "execution_count": 33,
   "metadata": {
    "pycharm": {
     "name": "#%%\n"
    }
   },
   "outputs": [
    {
     "data": {
      "text/plain": "5"
     },
     "execution_count": 33,
     "metadata": {},
     "output_type": "execute_result"
    }
   ],
   "source": [
    "mask = (features_int == ([0, 5, 1, 0])).all(axis=1)\n",
    "mask.sum()"
   ]
  },
  {
   "cell_type": "code",
   "execution_count": 34,
   "metadata": {
    "pycharm": {
     "name": "#%%\n"
    }
   },
   "outputs": [
    {
     "name": "stderr",
     "output_type": "stream",
     "text": [
      "/tmp/ipykernel_47304/2610307727.py:3: UserWarning: FixedFormatter should only be used together with FixedLocator\n",
      "  axes[0].set_xticklabels(imd)\n"
     ]
    },
    {
     "data": {
      "text/plain": "<Figure size 460.8x230.4 with 2 Axes>",
      "image/png": "[encoded data removed]"
     },
     "metadata": {},
     "output_type": "display_data"
    }
   ],
   "source": [
    "fig, axes = plt.subplots(ncols=2, figsize=(plt.rcParams['figure.figsize'][0], plt.rcParams['figure.figsize'][0]/2))\n",
    "axes[0].hist(imd_int)\n",
    "axes[0].set_xticklabels(imd)\n",
    "axes[1].hist(imd[imd_int][mask])\n",
    "plt.savefig(os.path.expanduser('~/Plots/imd_histogram.eps'), bbox_inches='tight')\n",
    "plt.show()"
   ]
  },
  {
   "cell_type": "markdown",
   "source": [
    "We have identified 5 persons, female, North Western Region, middle aged and no education. All of them have low income."
   ],
   "metadata": {
    "collapsed": false
   }
  },
  {
   "cell_type": "markdown",
   "metadata": {
    "pycharm": {
     "name": "#%% md\n"
    }
   },
   "source": [
    "# What about disability?"
   ]
  },
  {
   "cell_type": "code",
   "execution_count": 35,
   "outputs": [
    {
     "data": {
      "text/plain": "0.0"
     },
     "execution_count": 35,
     "metadata": {},
     "output_type": "execute_result"
    }
   ],
   "source": [
    "dis_feat = features[dis_int == 1]\n",
    "dis_feat_int = features_int[dis_int == 1]\n",
    "general_sample = features[np.random.choice(len(features), len(dis_feat))]\n",
    "\n",
    "p, som, (counts_all_dis, counts_dis) = som_test(general_sample, dis_feat,\n",
    "                                                size=(20, 20), ret_som=True,\n",
    "                                                ret_counts=True)\n",
    "p"
   ],
   "metadata": {
    "collapsed": false,
    "pycharm": {
     "name": "#%%\n"
    }
   }
  },
  {
   "cell_type": "code",
   "execution_count": 36,
   "outputs": [
    {
     "data": {
      "text/plain": "<Figure size 460.8x316.8 with 2 Axes>",
      "image/png": "[encoded data removed]"
     },
     "metadata": {},
     "output_type": "display_data"
    }
   ],
   "source": [
    "fig, axes = plt.subplots(ncols=2)\n",
    "axes[0].imshow(counts_all_dis)\n",
    "axes[0].set_title('General population')\n",
    "axes[1].imshow(counts_dis)\n",
    "axes[1].set_title('With disability')\n",
    "plt.show()"
   ],
   "metadata": {
    "collapsed": false,
    "pycharm": {
     "name": "#%%\n"
    }
   }
  },
  {
   "cell_type": "code",
   "execution_count": 37,
   "outputs": [
    {
     "data": {
      "text/plain": "<Figure size 460.8x316.8 with 2 Axes>",
      "image/png": "[encoded data removed]"
     },
     "metadata": {},
     "output_type": "display_data"
    }
   ],
   "source": [
    "with warnings.catch_warnings():\n",
    "    warnings.filterwarnings(\"ignore\")\n",
    "    chi2_dis = (counts_dis - counts_all_dis) / (counts_dis + counts_all_dis)\n",
    "plt.imshow(chi2_dis, cmap='jet')\n",
    "plt.colorbar()\n",
    "plt.show()"
   ],
   "metadata": {
    "collapsed": false,
    "pycharm": {
     "name": "#%%\n"
    }
   }
  },
  {
   "cell_type": "code",
   "execution_count": 38,
   "outputs": [
    {
     "data": {
      "text/plain": "(0.7142857142857143, -1.0)"
     },
     "execution_count": 38,
     "metadata": {},
     "output_type": "execute_result"
    }
   ],
   "source": [
    "np.nanmax(chi2_dis), np.nanmin(chi2_dis)"
   ],
   "metadata": {
    "collapsed": false,
    "pycharm": {
     "name": "#%%\n"
    }
   }
  },
  {
   "cell_type": "code",
   "execution_count": 39,
   "outputs": [
    {
     "data": {
      "text/plain": "array([[0, 5, 1, 3, 6]])"
     },
     "execution_count": 39,
     "metadata": {},
     "output_type": "execute_result"
    }
   ],
   "source": [
    "#[gender_int, region_int, education_int, age_int]\n",
    "idxs = np.argwhere((som.bmus == np.flip(np.unravel_index(np.nanargmax(chi2_dis), chi2_dis.shape))).all(axis=1)).ravel()\n",
    "idxs = idxs[idxs > len(general_sample)] - len(general_sample)\n",
    "uni, counts = np.unique(dis_feat_int[idxs], axis=0, return_counts=True)\n",
    "np.column_stack([uni, counts])[np.flip(np.argsort(counts))]"
   ],
   "metadata": {
    "collapsed": false,
    "pycharm": {
     "name": "#%%\n"
    }
   }
  },
  {
   "cell_type": "code",
   "execution_count": 40,
   "outputs": [
    {
     "data": {
      "text/plain": "('F', 'North Western Region', '35-55', 'HE Qualification')"
     },
     "execution_count": 40,
     "metadata": {},
     "output_type": "execute_result"
    }
   ],
   "source": [
    "gender[0], region[5], age[1], education[3]"
   ],
   "metadata": {
    "collapsed": false,
    "pycharm": {
     "name": "#%%\n"
    }
   }
  },
  {
   "cell_type": "code",
   "execution_count": 41,
   "outputs": [
    {
     "data": {
      "text/plain": "42"
     },
     "execution_count": 41,
     "metadata": {},
     "output_type": "execute_result"
    }
   ],
   "source": [
    "mask = (features_int == ([0, 5, 1, 3])).all(axis=1)\n",
    "mask.sum()"
   ],
   "metadata": {
    "collapsed": false,
    "pycharm": {
     "name": "#%%\n"
    }
   }
  },
  {
   "cell_type": "code",
   "execution_count": 42,
   "outputs": [
    {
     "data": {
      "text/plain": "<Figure size 460.8x230.4 with 2 Axes>",
      "image/png": "[encoded data removed]"
     },
     "metadata": {},
     "output_type": "display_data"
    }
   ],
   "source": [
    "fig, axes = plt.subplots(ncols=2, figsize=(plt.rcParams['figure.figsize'][0], plt.rcParams['figure.figsize'][0]/2), sharey=True)\n",
    "axes[0].hist(dis[dis_int], density=True)\n",
    "axes[1].hist(dis[dis_int[mask]], density=True)\n",
    "plt.show()"
   ],
   "metadata": {
    "collapsed": false,
    "pycharm": {
     "name": "#%%\n"
    }
   }
  },
  {
   "cell_type": "markdown",
   "source": [
    "Female, middle age, from Wales and lower than A education has a considerable higher likelihood of having a disability"
   ],
   "metadata": {
    "collapsed": false,
    "pycharm": {
     "name": "#%% md\n"
    }
   }
  },
  {
   "cell_type": "code",
   "execution_count": 25,
   "outputs": [],
   "source": [],
   "metadata": {
    "collapsed": false,
    "pycharm": {
     "name": "#%%\n"
    }
   }
  }
 ],
 "metadata": {
  "kernelspec": {
   "display_name": "Python 3 (ipykernel)",
   "language": "python",
   "name": "python3"
  },
  "language_info": {
   "codemirror_mode": {
    "name": "ipython",
    "version": 3
   },
   "file_extension": ".py",
   "mimetype": "text/x-python",
   "name": "python",
   "nbconvert_exporter": "python",
   "pygments_lexer": "ipython3",
   "version": "3.9.9"
  }
 },
 "nbformat": 4,
 "nbformat_minor": 1
}