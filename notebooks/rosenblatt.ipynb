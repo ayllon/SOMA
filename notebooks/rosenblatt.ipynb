{
 "cells": [
  {
   "cell_type": "code",
   "execution_count": 1,
   "metadata": {
    "collapsed": true
   },
   "outputs": [],
   "source": [
    "import numpy as np\n",
    "import matplotlib.pyplot as plt\n",
    "from tqdm.auto import tqdm\n",
    "from scipy.stats import chi2\n",
    "\n",
    "from soma.tests.som import som_test, som_statistic\n",
    "\n",
    "plt.style.use('seaborn')\n",
    "plt.style.use('seaborn-paper')"
   ]
  },
  {
   "cell_type": "code",
   "execution_count": 56,
   "outputs": [],
   "source": [
    "# https://github.com/johnros/better_than_chance_code/blob/master/file2.Rmd\n",
    "\n",
    "p = 23\n",
    "n = 100\n",
    "effects = np.linspace(0, 10, num=3)\n",
    "sigma = np.identity(p)\n",
    "sigma_inv = np.linalg.inv(sigma)\n",
    "\n",
    "direction0 = np.ones(p)\n",
    "mahalanobis = np.matmul(np.matmul(direction0, sigma_inv), direction0)\n",
    "direction = direction0 / np.sqrt(n / 2 * mahalanobis)\n",
    "replications = 100#0\n",
    "\n",
    "def get_sample(effect):\n",
    "    labels = np.repeat([0, 1], n//2)\n",
    "    shift = np.full((n//2, p), fill_value=effect * direction)\n",
    "    noise = np.random.normal(0, 1, size=(n, p))\n",
    "    noise[labels==1] += shift\n",
    "    return noise, labels"
   ],
   "metadata": {
    "collapsed": false,
    "pycharm": {
     "name": "#%%\n"
    }
   }
  },
  {
   "cell_type": "code",
   "source": [
    "alpha = 0.05\n",
    "\n",
    "rejects = np.zeros_like(effects)\n",
    "\n",
    "for i in tqdm(range(len(rejects)), position=0):\n",
    "    for _ in tqdm(range(replications), leave=True, position=1):\n",
    "        samples, labels = get_sample(effects[i])\n",
    "        pval = som_test(samples[labels==0], samples[labels==1], size=(5, 4))\n",
    "        rejects[i] += pval <= alpha"
   ],
   "metadata": {
    "collapsed": false,
    "pycharm": {
     "name": "#%%\n"
    }
   },
   "execution_count": 57,
   "outputs": [
    {
     "data": {
      "text/plain": "  0%|          | 0/3 [00:00<?, ?it/s]",
      "application/vnd.jupyter.widget-view+json": {
       "version_major": 2,
       "version_minor": 0,
       "model_id": "01700a40c41b4d748895fc5e9679e225"
      }
     },
     "metadata": {},
     "output_type": "display_data"
    },
    {
     "data": {
      "text/plain": "  0%|          | 0/100 [00:00<?, ?it/s]",
      "application/vnd.jupyter.widget-view+json": {
       "version_major": 2,
       "version_minor": 0,
       "model_id": "54290ac118b24c9f805f20ad5a03ed1c"
      }
     },
     "metadata": {},
     "output_type": "display_data"
    },
    {
     "data": {
      "text/plain": "  0%|          | 0/100 [00:00<?, ?it/s]",
      "application/vnd.jupyter.widget-view+json": {
       "version_major": 2,
       "version_minor": 0,
       "model_id": "dd0b3f204b6e4f6aafcd961b6c628eaf"
      }
     },
     "metadata": {},
     "output_type": "display_data"
    },
    {
     "data": {
      "text/plain": "  0%|          | 0/100 [00:00<?, ?it/s]",
      "application/vnd.jupyter.widget-view+json": {
       "version_major": 2,
       "version_minor": 0,
       "model_id": "53e7ef5548134706a5f8b2c0e9627dd2"
      }
     },
     "metadata": {},
     "output_type": "display_data"
    }
   ]
  },
  {
   "cell_type": "code",
   "source": [
    "rejects / replications"
   ],
   "metadata": {
    "collapsed": false,
    "pycharm": {
     "name": "#%%\n"
    }
   },
   "outputs": [
    {
     "data": {
      "text/plain": "array([0.03, 0.1 , 0.49])"
     },
     "execution_count": 58,
     "metadata": {},
     "output_type": "execute_result"
    }
   ],
   "execution_count": 58
  },
  {
   "cell_type": "markdown",
   "source": [
    "## Permutation"
   ],
   "metadata": {
    "collapsed": false,
    "pycharm": {
     "name": "#%% md\n"
    }
   }
  },
  {
   "cell_type": "code",
   "execution_count": 200,
   "outputs": [],
   "source": [
    "permutations = 1000\n",
    "replications = 1#000"
   ],
   "metadata": {
    "collapsed": false,
    "pycharm": {
     "name": "#%%\n"
    }
   }
  },
  {
   "cell_type": "code",
   "execution_count": 201,
   "outputs": [
    {
     "data": {
      "text/plain": "  0%|          | 0/1 [00:00<?, ?it/s]",
      "application/vnd.jupyter.widget-view+json": {
       "version_major": 2,
       "version_minor": 0,
       "model_id": "a8721b20e48a4621bbbbdbad484eb8c3"
      }
     },
     "metadata": {},
     "output_type": "display_data"
    }
   ],
   "source": [
    "rejected = 0\n",
    "for _ in tqdm(range(replications), position=1):\n",
    "    samples, labels = get_sample(effects[2])\n",
    "    t0, df = som_statistic(samples[labels==0], samples[labels==1], size=(5, 4), ret_df=True)\n",
    "\n",
    "    permuted = np.zeros(permutations)\n",
    "    for i in range(permutations):\n",
    "        np.random.shuffle(labels)\n",
    "        permuted[i] = som_statistic(samples[labels==0], samples[labels==1], size=(5, 4))[0]\n",
    "    pval = np.mean(t0 < permuted)\n",
    "    rejected += pval <= alpha"
   ],
   "metadata": {
    "collapsed": false,
    "pycharm": {
     "name": "#%%\n"
    }
   }
  },
  {
   "cell_type": "code",
   "execution_count": 213,
   "outputs": [
    {
     "data": {
      "text/plain": "<Figure size 460.8x316.8 with 1 Axes>",
      "image/png": "[encoded data removed]"
     },
     "metadata": {},
     "output_type": "display_data"
    }
   ],
   "source": [
    "bins = np.linspace(0, 50, 100)\n",
    "bins = (bins[:-1] + bins[1:])/2\n",
    "plt.hist(permuted, density=True, bins=bins, zorder=-1, cumulative=True)\n",
    "plt.scatter(bins, chi2.cdf(bins, df=df), marker='x', color='green')\n",
    "plt.axvline(chi2.ppf(0.95, df=df), color='gray', linestyle='--')\n",
    "plt.axvline(t0, color='red', label='Test statistic')\n",
    "plt.legend()\n",
    "plt.savefig('/home/aalvarez/Plots/chi2_hist.eps', bbox_inches='tight')\n",
    "plt.show()"
   ],
   "metadata": {
    "collapsed": false,
    "pycharm": {
     "name": "#%%\n"
    }
   }
  },
  {
   "cell_type": "code",
   "execution_count": 232,
   "outputs": [
    {
     "data": {
      "text/plain": "(23.309523809523807, False, 18)"
     },
     "execution_count": 232,
     "metadata": {},
     "output_type": "execute_result"
    }
   ],
   "source": [
    "t0, np.mean(t0 < permuted) < alpha, df"
   ],
   "metadata": {
    "collapsed": false,
    "pycharm": {
     "name": "#%%\n"
    }
   }
  },
  {
   "cell_type": "code",
   "source": [
    "from scipy.stats import cramervonmises"
   ],
   "metadata": {
    "collapsed": false,
    "pycharm": {
     "name": "#%%\n"
    }
   },
   "execution_count": 215,
   "outputs": []
  },
  {
   "cell_type": "code",
   "execution_count": 227,
   "outputs": [
    {
     "data": {
      "text/plain": "CramerVonMisesResult(statistic=0.549557466999889, pvalue=0.029857515145667146)"
     },
     "execution_count": 227,
     "metadata": {},
     "output_type": "execute_result"
    }
   ],
   "source": [
    "cramervonmises(permuted, 'chi2', args=(19,))"
   ],
   "metadata": {
    "collapsed": false,
    "pycharm": {
     "name": "#%%\n"
    }
   }
  },
  {
   "cell_type": "code",
   "execution_count": null,
   "outputs": [],
   "source": [],
   "metadata": {
    "collapsed": false,
    "pycharm": {
     "name": "#%%\n"
    }
   }
  }
 ],
 "metadata": {
  "kernelspec": {
   "display_name": "Python 3",
   "language": "python",
   "name": "python3"
  },
  "language_info": {
   "codemirror_mode": {
    "name": "ipython",
    "version": 2
   },
   "file_extension": ".py",
   "mimetype": "text/x-python",
   "name": "python",
   "nbconvert_exporter": "python",
   "pygments_lexer": "ipython2",
   "version": "2.7.6"
  }
 },
 "nbformat": 4,
 "nbformat_minor": 0
}