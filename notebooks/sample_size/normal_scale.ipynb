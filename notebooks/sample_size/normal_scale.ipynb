{
 "cells": [
  {
   "cell_type": "code",
   "execution_count": 1,
   "metadata": {
    "execution": {
     "iopub.execute_input": "2022-02-19T13:35:05.751435Z",
     "iopub.status.busy": "2022-02-19T13:35:05.746644Z",
     "iopub.status.idle": "2022-02-19T13:35:12.896787Z",
     "shell.execute_reply": "2022-02-19T13:35:12.897354Z"
    },
    "pycharm": {
     "name": "#%%\n"
    }
   },
   "outputs": [],
   "source": [
    "import os\n",
    "import warnings\n",
    "\n",
    "import pandas\n",
    "\n",
    "warnings.simplefilter('ignore')\n",
    "\n",
    "import matplotlib.pyplot as plt\n",
    "import numpy as np\n",
    "\n",
    "plt.style.use('seaborn')\n",
    "plt.style.use('seaborn-paper')\n",
    "\n",
    "from soma.generators.normal import MultivariateNormalGenerator\n",
    "from soma.tests import som_test, knn_test, c2s_knn_test, c2s_nn_test\n",
    "from soma.util.errors import stat_errors_vs_sample_size\n",
    "from soma.util.plot import plot_errors"
   ]
  },
  {
   "cell_type": "code",
   "execution_count": 2,
   "metadata": {
    "execution": {
     "iopub.execute_input": "2022-02-19T13:35:12.902434Z",
     "iopub.status.busy": "2022-02-19T13:35:12.901818Z",
     "iopub.status.idle": "2022-02-19T13:35:12.907579Z",
     "shell.execute_reply": "2022-02-19T13:35:12.908080Z"
    },
    "pycharm": {
     "name": "#%%\n"
    }
   },
   "outputs": [],
   "source": [
    "plot_dir = os.path.expanduser('~/Plots/power_sample_size')\n",
    "os.makedirs(plot_dir, exist_ok=True)"
   ]
  },
  {
   "cell_type": "code",
   "execution_count": 3,
   "metadata": {
    "execution": {
     "iopub.execute_input": "2022-02-19T13:35:12.912475Z",
     "iopub.status.busy": "2022-02-19T13:35:12.911792Z",
     "iopub.status.idle": "2022-02-19T13:35:12.914070Z",
     "shell.execute_reply": "2022-02-19T13:35:12.913443Z"
    },
    "pycharm": {
     "name": "#%%\n"
    }
   },
   "outputs": [],
   "source": [
    "tests = {\n",
    "    'knn': knn_test,\n",
    "    'som': som_test,\n",
    "    'c2st_knn': c2s_knn_test,\n",
    "    'c2st_nn': c2s_nn_test,\n",
    "}"
   ]
  },
  {
   "cell_type": "code",
   "execution_count": 4,
   "metadata": {
    "execution": {
     "iopub.execute_input": "2022-02-19T13:35:12.917632Z",
     "iopub.status.busy": "2022-02-19T13:35:12.916206Z",
     "iopub.status.idle": "2022-02-19T13:35:12.920184Z",
     "shell.execute_reply": "2022-02-19T13:35:12.919662Z"
    },
    "pycharm": {
     "name": "#%%\n"
    }
   },
   "outputs": [],
   "source": [
    "samples = np.array([100, 250, 500, 1000, 2500, 5000])\n",
    "repeat = 200"
   ]
  },
  {
   "cell_type": "markdown",
   "metadata": {
    "collapsed": false
   },
   "source": [
    "# Normal (scale)"
   ]
  },
  {
   "cell_type": "code",
   "execution_count": 5,
   "metadata": {
    "execution": {
     "iopub.execute_input": "2022-02-19T13:35:12.926900Z",
     "iopub.status.busy": "2022-02-19T13:35:12.926326Z",
     "iopub.status.idle": "2022-02-19T13:35:13.972932Z",
     "shell.execute_reply": "2022-02-19T13:35:13.972228Z"
    },
    "pycharm": {
     "name": "#%%\n"
    }
   },
   "outputs": [],
   "source": [
    "means = np.zeros(1000)\n",
    "\n",
    "ns1 = MultivariateNormalGenerator(means, wishart_df=len(means) + 1)\n",
    "ns2 = MultivariateNormalGenerator(means, wishart_df=len(means) + 1)"
   ]
  },
  {
   "cell_type": "code",
   "execution_count": 6,
   "metadata": {
    "execution": {
     "iopub.execute_input": "2022-02-19T13:35:13.978742Z",
     "iopub.status.busy": "2022-02-19T13:35:13.978101Z",
     "iopub.status.idle": "2022-02-19T13:35:13.991162Z",
     "shell.execute_reply": "2022-02-19T13:35:13.990415Z"
    },
    "pycharm": {
     "name": "#%%\n"
    }
   },
   "outputs": [],
   "source": [
    "#ns_results = stat_errors_vs_sample_size(ns1, ns2, tests, samples, repeat=repeat)\n",
    "#ns_results.to_csv(os.path.join(plot_dir, 'ns_results_samples.csv'))\n",
    "ns_results = pandas.read_csv('../../results/sample_size/ns_results_samples.csv', index_col=[0, 1])"
   ]
  },
  {
   "cell_type": "code",
   "execution_count": 7,
   "metadata": {
    "execution": {
     "iopub.execute_input": "2022-02-19T13:35:14.007866Z",
     "iopub.status.busy": "2022-02-19T13:35:14.006620Z",
     "iopub.status.idle": "2022-02-19T13:35:15.791185Z",
     "shell.execute_reply": "2022-02-19T13:35:15.791526Z"
    },
    "pycharm": {
     "name": "#%%\n"
    }
   },
   "outputs": [
    {
     "data": {
      "text/plain": "<Figure size 230.4x316.8 with 3 Axes>",
      "image/png": "[encoded data removed]"
     },
     "metadata": {},
     "output_type": "display_data"
    }
   ],
   "source": [
    "normal_scale_fig = plot_errors(ns_results, logscale=True, show_time=True)\n",
    "normal_scale_fig.savefig(os.path.join(plot_dir, 'normal_scale_power_samples.eps'), bbox_inches='tight')"
   ]
  },
  {
   "cell_type": "markdown",
   "metadata": {
    "collapsed": false
   },
   "source": [
    "# Normal (scale, fair)"
   ]
  },
  {
   "cell_type": "code",
   "execution_count": 8,
   "metadata": {
    "execution": {
     "iopub.execute_input": "2022-02-19T13:35:15.795633Z",
     "iopub.status.busy": "2022-02-19T13:35:15.795263Z",
     "iopub.status.idle": "2022-02-19T13:35:16.201102Z",
     "shell.execute_reply": "2022-02-19T13:35:16.200519Z"
    },
    "pycharm": {
     "name": "#%%\n"
    }
   },
   "outputs": [],
   "source": [
    "nsf1_cov = np.identity(len(means))\n",
    "nsf2_cov = np.identity(len(means))\n",
    "nsf1_cov[0, 0] = 4.\n",
    "\n",
    "nsf1 = MultivariateNormalGenerator(means, cov=nsf1_cov)\n",
    "nsf2 = MultivariateNormalGenerator(means, cov=nsf2_cov)"
   ]
  },
  {
   "cell_type": "code",
   "execution_count": 9,
   "metadata": {
    "execution": {
     "iopub.execute_input": "2022-02-19T13:35:16.223177Z",
     "iopub.status.busy": "2022-02-19T13:35:16.209714Z",
     "iopub.status.idle": "2022-02-21T09:39:46.102577Z",
     "shell.execute_reply": "2022-02-21T09:39:46.103721Z"
    },
    "pycharm": {
     "name": "#%%\n"
    }
   },
   "outputs": [],
   "source": [
    "#nsf_results = stat_errors_vs_sample_size(nsf1, nsf2, tests, samples, repeat=repeat)\n",
    "#nsf_results.to_csv('../../results/sample_size/nsf_results_samples.csv')\n",
    "nsf_results = pandas.read_csv('../../results/sample_size/nsf_results_samples.csv', index_col=[0, 1])"
   ]
  },
  {
   "cell_type": "code",
   "execution_count": 10,
   "metadata": {
    "execution": {
     "iopub.execute_input": "2022-02-21T09:39:46.141953Z",
     "iopub.status.busy": "2022-02-21T09:39:46.131506Z",
     "iopub.status.idle": "2022-02-21T09:39:47.187131Z",
     "shell.execute_reply": "2022-02-21T09:39:47.188065Z"
    },
    "pycharm": {
     "name": "#%%\n"
    }
   },
   "outputs": [
    {
     "data": {
      "text/plain": "<Figure size 230.4x316.8 with 3 Axes>",
      "image/png": "[encoded data removed]"
     },
     "metadata": {},
     "output_type": "display_data"
    }
   ],
   "source": [
    "normal_scale_fair_fig = plot_errors(nsf_results, logscale=True, show_time=True)\n",
    "normal_scale_fair_fig.savefig(os.path.join(plot_dir, 'normal_scale_fair_power_samples.eps'), bbox_inches='tight')"
   ]
  },
  {
   "cell_type": "code",
   "execution_count": null,
   "metadata": {
    "pycharm": {
     "name": "#%%\n"
    }
   },
   "outputs": [],
   "source": []
  }
 ],
 "metadata": {
  "kernelspec": {
   "display_name": "Python 3",
   "language": "python",
   "name": "python3"
  },
  "language_info": {
   "codemirror_mode": {
    "name": "ipython",
    "version": 3
   },
   "file_extension": ".py",
   "mimetype": "text/x-python",
   "name": "python",
   "nbconvert_exporter": "python",
   "pygments_lexer": "ipython3",
   "version": "3.9.9"
  },
  "widgets": {
   "application/vnd.jupyter.widget-state+json": {
    "state": {
     "165d3a084e98451baf44119190068670": {
      "model_module": "@jupyter-widgets/controls",
      "model_module_version": "1.5.0",
      "model_name": "ProgressStyleModel",
      "state": {
       "_model_module": "@jupyter-widgets/controls",
       "_model_module_version": "1.5.0",
       "_model_name": "ProgressStyleModel",
       "_view_count": null,
       "_view_module": "@jupyter-widgets/base",
       "_view_module_version": "1.2.0",
       "_view_name": "StyleView",
       "bar_color": null,
       "description_width": ""
      }
     },
     "1b3c73731eca4982a30e875562f285c5": {
      "model_module": "@jupyter-widgets/controls",
      "model_module_version": "1.5.0",
      "model_name": "HTMLModel",
      "state": {
       "_dom_classes": [],
       "_model_module": "@jupyter-widgets/controls",
       "_model_module_version": "1.5.0",
       "_model_name": "HTMLModel",
       "_view_count": null,
       "_view_module": "@jupyter-widgets/controls",
       "_view_module_version": "1.5.0",
       "_view_name": "HTMLView",
       "description": "",
       "description_tooltip": null,
       "layout": "IPY_MODEL_bc030228874e46ee807127f3b54662f5",
       "placeholder": "​",
       "style": "IPY_MODEL_b49fcef7f1ee44e3a15da602ec5b1e09",
       "value": " 24/24 [44:04:29&lt;00:00, 13837.58s/it]"
      }
     },
     "459e6aab68e746c493ab4535d9e2bd62": {
      "model_module": "@jupyter-widgets/base",
      "model_module_version": "1.2.0",
      "model_name": "LayoutModel",
      "state": {
       "_model_module": "@jupyter-widgets/base",
       "_model_module_version": "1.2.0",
       "_model_name": "LayoutModel",
       "_view_count": null,
       "_view_module": "@jupyter-widgets/base",
       "_view_module_version": "1.2.0",
       "_view_name": "LayoutView",
       "align_content": null,
       "align_items": null,
       "align_self": null,
       "border": null,
       "bottom": null,
       "display": null,
       "flex": null,
       "flex_flow": null,
       "grid_area": null,
       "grid_auto_columns": null,
       "grid_auto_flow": null,
       "grid_auto_rows": null,
       "grid_column": null,
       "grid_gap": null,
       "grid_row": null,
       "grid_template_areas": null,
       "grid_template_columns": null,
       "grid_template_rows": null,
       "height": null,
       "justify_content": null,
       "justify_items": null,
       "left": null,
       "margin": null,
       "max_height": null,
       "max_width": null,
       "min_height": null,
       "min_width": null,
       "object_fit": null,
       "object_position": null,
       "order": null,
       "overflow": null,
       "overflow_x": null,
       "overflow_y": null,
       "padding": null,
       "right": null,
       "top": null,
       "visibility": null,
       "width": null
      }
     },
     "4be13f2b613d43009bdc1c8d70ab4bd7": {
      "model_module": "@jupyter-widgets/controls",
      "model_module_version": "1.5.0",
      "model_name": "FloatProgressModel",
      "state": {
       "_dom_classes": [],
       "_model_module": "@jupyter-widgets/controls",
       "_model_module_version": "1.5.0",
       "_model_name": "FloatProgressModel",
       "_view_count": null,
       "_view_module": "@jupyter-widgets/controls",
       "_view_module_version": "1.5.0",
       "_view_name": "ProgressView",
       "bar_style": "success",
       "description": "",
       "description_tooltip": null,
       "layout": "IPY_MODEL_dded3e78571243b5942a1f9dd2453b42",
       "max": 24.0,
       "min": 0.0,
       "orientation": "horizontal",
       "style": "IPY_MODEL_165d3a084e98451baf44119190068670",
       "value": 24.0
      }
     },
     "78ed403aea5c49b3a083682a5d162b76": {
      "model_module": "@jupyter-widgets/controls",
      "model_module_version": "1.5.0",
      "model_name": "DescriptionStyleModel",
      "state": {
       "_model_module": "@jupyter-widgets/controls",
       "_model_module_version": "1.5.0",
       "_model_name": "DescriptionStyleModel",
       "_view_count": null,
       "_view_module": "@jupyter-widgets/base",
       "_view_module_version": "1.2.0",
       "_view_name": "StyleView",
       "description_width": ""
      }
     },
     "949be74215404ca3b66e1e0ff101b67e": {
      "model_module": "@jupyter-widgets/base",
      "model_module_version": "1.2.0",
      "model_name": "LayoutModel",
      "state": {
       "_model_module": "@jupyter-widgets/base",
       "_model_module_version": "1.2.0",
       "_model_name": "LayoutModel",
       "_view_count": null,
       "_view_module": "@jupyter-widgets/base",
       "_view_module_version": "1.2.0",
       "_view_name": "LayoutView",
       "align_content": null,
       "align_items": null,
       "align_self": null,
       "border": null,
       "bottom": null,
       "display": null,
       "flex": null,
       "flex_flow": null,
       "grid_area": null,
       "grid_auto_columns": null,
       "grid_auto_flow": null,
       "grid_auto_rows": null,
       "grid_column": null,
       "grid_gap": null,
       "grid_row": null,
       "grid_template_areas": null,
       "grid_template_columns": null,
       "grid_template_rows": null,
       "height": null,
       "justify_content": null,
       "justify_items": null,
       "left": null,
       "margin": null,
       "max_height": null,
       "max_width": null,
       "min_height": null,
       "min_width": null,
       "object_fit": null,
       "object_position": null,
       "order": null,
       "overflow": null,
       "overflow_x": null,
       "overflow_y": null,
       "padding": null,
       "right": null,
       "top": null,
       "visibility": null,
       "width": null
      }
     },
     "949e7e5f20da4d9893cd49898ddbe26f": {
      "model_module": "@jupyter-widgets/controls",
      "model_module_version": "1.5.0",
      "model_name": "HBoxModel",
      "state": {
       "_dom_classes": [],
       "_model_module": "@jupyter-widgets/controls",
       "_model_module_version": "1.5.0",
       "_model_name": "HBoxModel",
       "_view_count": null,
       "_view_module": "@jupyter-widgets/controls",
       "_view_module_version": "1.5.0",
       "_view_name": "HBoxView",
       "box_style": "",
       "children": [
        "IPY_MODEL_f07bcf97b0b54403992940133a5bd41d",
        "IPY_MODEL_4be13f2b613d43009bdc1c8d70ab4bd7",
        "IPY_MODEL_1b3c73731eca4982a30e875562f285c5"
       ],
       "layout": "IPY_MODEL_949be74215404ca3b66e1e0ff101b67e"
      }
     },
     "b49fcef7f1ee44e3a15da602ec5b1e09": {
      "model_module": "@jupyter-widgets/controls",
      "model_module_version": "1.5.0",
      "model_name": "DescriptionStyleModel",
      "state": {
       "_model_module": "@jupyter-widgets/controls",
       "_model_module_version": "1.5.0",
       "_model_name": "DescriptionStyleModel",
       "_view_count": null,
       "_view_module": "@jupyter-widgets/base",
       "_view_module_version": "1.2.0",
       "_view_name": "StyleView",
       "description_width": ""
      }
     },
     "bc030228874e46ee807127f3b54662f5": {
      "model_module": "@jupyter-widgets/base",
      "model_module_version": "1.2.0",
      "model_name": "LayoutModel",
      "state": {
       "_model_module": "@jupyter-widgets/base",
       "_model_module_version": "1.2.0",
       "_model_name": "LayoutModel",
       "_view_count": null,
       "_view_module": "@jupyter-widgets/base",
       "_view_module_version": "1.2.0",
       "_view_name": "LayoutView",
       "align_content": null,
       "align_items": null,
       "align_self": null,
       "border": null,
       "bottom": null,
       "display": null,
       "flex": null,
       "flex_flow": null,
       "grid_area": null,
       "grid_auto_columns": null,
       "grid_auto_flow": null,
       "grid_auto_rows": null,
       "grid_column": null,
       "grid_gap": null,
       "grid_row": null,
       "grid_template_areas": null,
       "grid_template_columns": null,
       "grid_template_rows": null,
       "height": null,
       "justify_content": null,
       "justify_items": null,
       "left": null,
       "margin": null,
       "max_height": null,
       "max_width": null,
       "min_height": null,
       "min_width": null,
       "object_fit": null,
       "object_position": null,
       "order": null,
       "overflow": null,
       "overflow_x": null,
       "overflow_y": null,
       "padding": null,
       "right": null,
       "top": null,
       "visibility": null,
       "width": null
      }
     },
     "dded3e78571243b5942a1f9dd2453b42": {
      "model_module": "@jupyter-widgets/base",
      "model_module_version": "1.2.0",
      "model_name": "LayoutModel",
      "state": {
       "_model_module": "@jupyter-widgets/base",
       "_model_module_version": "1.2.0",
       "_model_name": "LayoutModel",
       "_view_count": null,
       "_view_module": "@jupyter-widgets/base",
       "_view_module_version": "1.2.0",
       "_view_name": "LayoutView",
       "align_content": null,
       "align_items": null,
       "align_self": null,
       "border": null,
       "bottom": null,
       "display": null,
       "flex": null,
       "flex_flow": null,
       "grid_area": null,
       "grid_auto_columns": null,
       "grid_auto_flow": null,
       "grid_auto_rows": null,
       "grid_column": null,
       "grid_gap": null,
       "grid_row": null,
       "grid_template_areas": null,
       "grid_template_columns": null,
       "grid_template_rows": null,
       "height": null,
       "justify_content": null,
       "justify_items": null,
       "left": null,
       "margin": null,
       "max_height": null,
       "max_width": null,
       "min_height": null,
       "min_width": null,
       "object_fit": null,
       "object_position": null,
       "order": null,
       "overflow": null,
       "overflow_x": null,
       "overflow_y": null,
       "padding": null,
       "right": null,
       "top": null,
       "visibility": null,
       "width": null
      }
     },
     "f07bcf97b0b54403992940133a5bd41d": {
      "model_module": "@jupyter-widgets/controls",
      "model_module_version": "1.5.0",
      "model_name": "HTMLModel",
      "state": {
       "_dom_classes": [],
       "_model_module": "@jupyter-widgets/controls",
       "_model_module_version": "1.5.0",
       "_model_name": "HTMLModel",
       "_view_count": null,
       "_view_module": "@jupyter-widgets/controls",
       "_view_module_version": "1.5.0",
       "_view_name": "HTMLView",
       "description": "",
       "description_tooltip": null,
       "layout": "IPY_MODEL_459e6aab68e746c493ab4535d9e2bd62",
       "placeholder": "​",
       "style": "IPY_MODEL_78ed403aea5c49b3a083682a5d162b76",
       "value": "100%"
      }
     }
    },
    "version_major": 2,
    "version_minor": 0
   }
  }
 },
 "nbformat": 4,
 "nbformat_minor": 0
}