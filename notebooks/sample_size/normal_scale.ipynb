{
 "cells": [
  {
   "cell_type": "code",
   "execution_count": 10,
   "outputs": [],
   "source": [
    "import os\n",
    "import warnings\n",
    "\n",
    "import pandas\n",
    "\n",
    "warnings.simplefilter('ignore')\n",
    "\n",
    "import matplotlib.pyplot as plt\n",
    "import numpy as np\n",
    "\n",
    "plt.style.use('seaborn')\n",
    "plt.style.use('seaborn-paper')\n",
    "\n",
    "from soma.generators.normal import MultivariateNormalGenerator\n",
    "from soma.tests import som_test, knn_test, c2s_knn_test, c2s_nn_test\n",
    "from soma.util.errors import stat_errors_vs_sample_size\n",
    "from soma.util.plot import plot_errors"
   ],
   "metadata": {
    "collapsed": false,
    "pycharm": {
     "name": "#%%\n"
    }
   }
  },
  {
   "cell_type": "code",
   "execution_count": 2,
   "outputs": [],
   "source": [
    "plot_dir = os.path.expanduser('~/Plots/power_sample_size')\n",
    "os.makedirs(plot_dir, exist_ok=True)"
   ],
   "metadata": {
    "collapsed": false,
    "pycharm": {
     "name": "#%%\n"
    }
   }
  },
  {
   "cell_type": "code",
   "execution_count": 3,
   "outputs": [],
   "source": [
    "tests = {\n",
    "    'knn': knn_test,\n",
    "    'som': som_test,\n",
    "    'c2st_knn': c2s_knn_test,\n",
    "    'c2st_nn': c2s_nn_test,\n",
    "}"
   ],
   "metadata": {
    "collapsed": false,
    "pycharm": {
     "name": "#%%\n"
    }
   }
  },
  {
   "cell_type": "code",
   "execution_count": 4,
   "outputs": [],
   "source": [
    "samples = np.array([100, 250, 500, 1000, 2500, 5000])\n",
    "repeat = 200"
   ],
   "metadata": {
    "collapsed": false,
    "pycharm": {
     "name": "#%%\n"
    }
   }
  },
  {
   "cell_type": "markdown",
   "source": [
    "# Normal (scale)"
   ],
   "metadata": {
    "collapsed": false
   }
  },
  {
   "cell_type": "code",
   "execution_count": 5,
   "outputs": [],
   "source": [
    "means = np.zeros(1000)\n",
    "\n",
    "ns1 = MultivariateNormalGenerator(means, wishart_df=len(means) + 1)\n",
    "ns2 = MultivariateNormalGenerator(means, wishart_df=len(means) + 1)"
   ],
   "metadata": {
    "collapsed": false,
    "pycharm": {
     "name": "#%%\n"
    }
   }
  },
  {
   "cell_type": "code",
   "execution_count": 6,
   "outputs": [],
   "source": [
    "#ns_results = stat_errors_vs_sample_size(ns1, ns2, tests, samples, repeat=repeat)\n",
    "#ns_results.to_csv(os.path.join(plot_dir, 'ns_results_samples.csv'))\n",
    "ns_results = pandas.read_csv('../../results/sample_size/ns_results_samples.csv', index_col=[0, 1])"
   ],
   "metadata": {
    "collapsed": false,
    "pycharm": {
     "name": "#%%\n"
    }
   }
  },
  {
   "cell_type": "code",
   "execution_count": 7,
   "outputs": [
    {
     "data": {
      "text/plain": "<Figure size 230.4x316.8 with 3 Axes>",
      "image/png": "[encoded data removed]"
     },
     "metadata": {},
     "output_type": "display_data"
    }
   ],
   "source": [
    "normal_scale_fig = plot_errors(ns_results, logscale=True, show_time=True)\n",
    "normal_scale_fig.savefig(os.path.join(plot_dir, 'normal_scale_power_samples.eps'), bbox_inches='tight')"
   ],
   "metadata": {
    "collapsed": false,
    "pycharm": {
     "name": "#%%\n"
    }
   }
  },
  {
   "cell_type": "markdown",
   "source": [
    "# Normal (scale, fair)"
   ],
   "metadata": {
    "collapsed": false
   }
  },
  {
   "cell_type": "code",
   "execution_count": 12,
   "outputs": [],
   "source": [
    "nsf1_cov = np.identity(len(means))\n",
    "nsf2_cov = np.identity(len(means))\n",
    "nsf1_cov[-1, -1] = 4.\n",
    "\n",
    "nsf1 = MultivariateNormalGenerator(means, cov=nsf1_cov)\n",
    "nsf2 = MultivariateNormalGenerator(means, cov=nsf2_cov)"
   ],
   "metadata": {
    "collapsed": false,
    "pycharm": {
     "name": "#%%\n"
    }
   }
  },
  {
   "cell_type": "code",
   "execution_count": 13,
   "outputs": [
    {
     "data": {
      "text/plain": "  0%|          | 0/24 [00:00<?, ?it/s]",
      "application/vnd.jupyter.widget-view+json": {
       "version_major": 2,
       "version_minor": 0,
       "model_id": "28787cfa007c493e94bf541bd008e980"
      }
     },
     "metadata": {},
     "output_type": "display_data"
    },
    {
     "ename": "KeyboardInterrupt",
     "evalue": "",
     "output_type": "error",
     "traceback": [
      "\u001B[0;31m---------------------------------------------------------------------------\u001B[0m",
      "\u001B[0;31mKeyboardInterrupt\u001B[0m                         Traceback (most recent call last)",
      "Input \u001B[0;32mIn [13]\u001B[0m, in \u001B[0;36m<module>\u001B[0;34m\u001B[0m\n\u001B[0;32m----> 1\u001B[0m nsf_results \u001B[38;5;241m=\u001B[39m \u001B[43mstat_errors_vs_sample_size\u001B[49m\u001B[43m(\u001B[49m\u001B[43mnsf1\u001B[49m\u001B[43m,\u001B[49m\u001B[43m \u001B[49m\u001B[43mnsf2\u001B[49m\u001B[43m,\u001B[49m\u001B[43m \u001B[49m\u001B[43mtests\u001B[49m\u001B[43m,\u001B[49m\u001B[43m \u001B[49m\u001B[43msamples\u001B[49m\u001B[43m,\u001B[49m\u001B[43m \u001B[49m\u001B[43mrepeat\u001B[49m\u001B[38;5;241;43m=\u001B[39;49m\u001B[43mrepeat\u001B[49m\u001B[43m)\u001B[49m\n\u001B[1;32m      2\u001B[0m nsf_results\u001B[38;5;241m.\u001B[39mto_csv(\u001B[38;5;124m'\u001B[39m\u001B[38;5;124m../../results/sample_size/nsf_results_samples.csv\u001B[39m\u001B[38;5;124m'\u001B[39m)\n\u001B[1;32m      3\u001B[0m nsf_results \u001B[38;5;241m=\u001B[39m pandas\u001B[38;5;241m.\u001B[39mread_csv(\u001B[38;5;124m'\u001B[39m\u001B[38;5;124m../../results/sample_size/nsf_results_samples.csv\u001B[39m\u001B[38;5;124m'\u001B[39m, index_col\u001B[38;5;241m=\u001B[39m[\u001B[38;5;241m0\u001B[39m, \u001B[38;5;241m1\u001B[39m])\n",
      "File \u001B[0;32m~/Work/Projects/SOMA/soma/util/errors.py:67\u001B[0m, in \u001B[0;36mstat_errors_vs_sample_size\u001B[0;34m(gen_a, gen_b, tests, samples, alpha, repeat)\u001B[0m\n\u001B[1;32m     65\u001B[0m \u001B[38;5;28;01mfor\u001B[39;00m sample_size \u001B[38;5;129;01min\u001B[39;00m samples:\n\u001B[1;32m     66\u001B[0m     \u001B[38;5;28;01mfor\u001B[39;00m test_name, test \u001B[38;5;129;01min\u001B[39;00m tests\u001B[38;5;241m.\u001B[39mitems():\n\u001B[0;32m---> 67\u001B[0m         results\u001B[38;5;241m.\u001B[39mloc[test_name, sample_size]\u001B[38;5;241m.\u001B[39mloc[:] \u001B[38;5;241m=\u001B[39m \u001B[43mcompute_errors\u001B[49m\u001B[43m(\u001B[49m\u001B[43mgen_a\u001B[49m\u001B[43m,\u001B[49m\u001B[43m \u001B[49m\u001B[43mgen_b\u001B[49m\u001B[43m,\u001B[49m\u001B[43m \u001B[49m\u001B[43mtest\u001B[49m\u001B[43m,\u001B[49m\u001B[43m \u001B[49m\u001B[43malpha\u001B[49m\u001B[38;5;241;43m=\u001B[39;49m\u001B[43malpha\u001B[49m\u001B[43m,\u001B[49m\n\u001B[1;32m     68\u001B[0m \u001B[43m                                                                    \u001B[49m\u001B[43msamples\u001B[49m\u001B[38;5;241;43m=\u001B[39;49m\u001B[43msample_size\u001B[49m\u001B[43m,\u001B[49m\n\u001B[1;32m     69\u001B[0m \u001B[43m                                                                    \u001B[49m\u001B[43mrepeat\u001B[49m\u001B[38;5;241;43m=\u001B[39;49m\u001B[43mrepeat\u001B[49m\u001B[43m,\u001B[49m\u001B[43m \u001B[49m\u001B[43mreturn_duration\u001B[49m\u001B[38;5;241;43m=\u001B[39;49m\u001B[38;5;28;43;01mTrue\u001B[39;49;00m\u001B[43m)\u001B[49m\n\u001B[1;32m     70\u001B[0m         progress\u001B[38;5;241m.\u001B[39mupdate(\u001B[38;5;241m1\u001B[39m)\n\u001B[1;32m     71\u001B[0m \u001B[38;5;28;01mreturn\u001B[39;00m results\n",
      "File \u001B[0;32m~/Work/Projects/SOMA/soma/util/errors.py:22\u001B[0m, in \u001B[0;36mcompute_errors\u001B[0;34m(gen_a, gen_b, test, alpha, samples, repeat, return_duration)\u001B[0m\n\u001B[1;32m     20\u001B[0m \u001B[38;5;28;01mfor\u001B[39;00m _ \u001B[38;5;129;01min\u001B[39;00m \u001B[38;5;28mrange\u001B[39m(repeat):\n\u001B[1;32m     21\u001B[0m     a \u001B[38;5;241m=\u001B[39m gen_a\u001B[38;5;241m.\u001B[39msample(samples)\n\u001B[0;32m---> 22\u001B[0m     a2 \u001B[38;5;241m=\u001B[39m \u001B[43mgen_a\u001B[49m\u001B[38;5;241;43m.\u001B[39;49m\u001B[43msample\u001B[49m\u001B[43m(\u001B[49m\u001B[43msamples\u001B[49m\u001B[43m)\u001B[49m\n\u001B[1;32m     23\u001B[0m     b \u001B[38;5;241m=\u001B[39m gen_b\u001B[38;5;241m.\u001B[39msample(samples)\n\u001B[1;32m     24\u001B[0m     start \u001B[38;5;241m=\u001B[39m perf_counter()\n",
      "File \u001B[0;32m~/Work/Projects/SOMA/soma/generators/normal.py:46\u001B[0m, in \u001B[0;36mMultivariateNormalGenerator.sample\u001B[0;34m(self, n)\u001B[0m\n\u001B[1;32m     42\u001B[0m \u001B[38;5;28;01mdef\u001B[39;00m \u001B[38;5;21msample\u001B[39m(\u001B[38;5;28mself\u001B[39m, n: \u001B[38;5;28mint\u001B[39m) \u001B[38;5;241m-\u001B[39m\u001B[38;5;241m>\u001B[39m np\u001B[38;5;241m.\u001B[39mndarray:\n\u001B[1;32m     43\u001B[0m     \u001B[38;5;124;03m\"\"\"\u001B[39;00m\n\u001B[1;32m     44\u001B[0m \u001B[38;5;124;03m    Generate n samples\u001B[39;00m\n\u001B[1;32m     45\u001B[0m \u001B[38;5;124;03m    \"\"\"\u001B[39;00m\n\u001B[0;32m---> 46\u001B[0m     \u001B[38;5;28;01mreturn\u001B[39;00m \u001B[38;5;28;43mself\u001B[39;49m\u001B[38;5;241;43m.\u001B[39;49m\u001B[43m__dist\u001B[49m\u001B[38;5;241;43m.\u001B[39;49m\u001B[43mrvs\u001B[49m\u001B[43m(\u001B[49m\u001B[43mn\u001B[49m\u001B[43m)\u001B[49m\n",
      "File \u001B[0;32m/opt/miniconda3/envs/SOMA/lib/python3.9/site-packages/scipy/stats/_multivariate.py:756\u001B[0m, in \u001B[0;36mmultivariate_normal_frozen.rvs\u001B[0;34m(self, size, random_state)\u001B[0m\n\u001B[1;32m    755\u001B[0m \u001B[38;5;28;01mdef\u001B[39;00m \u001B[38;5;21mrvs\u001B[39m(\u001B[38;5;28mself\u001B[39m, size\u001B[38;5;241m=\u001B[39m\u001B[38;5;241m1\u001B[39m, random_state\u001B[38;5;241m=\u001B[39m\u001B[38;5;28;01mNone\u001B[39;00m):\n\u001B[0;32m--> 756\u001B[0m     \u001B[38;5;28;01mreturn\u001B[39;00m \u001B[38;5;28;43mself\u001B[39;49m\u001B[38;5;241;43m.\u001B[39;49m\u001B[43m_dist\u001B[49m\u001B[38;5;241;43m.\u001B[39;49m\u001B[43mrvs\u001B[49m\u001B[43m(\u001B[49m\u001B[38;5;28;43mself\u001B[39;49m\u001B[38;5;241;43m.\u001B[39;49m\u001B[43mmean\u001B[49m\u001B[43m,\u001B[49m\u001B[43m \u001B[49m\u001B[38;5;28;43mself\u001B[39;49m\u001B[38;5;241;43m.\u001B[39;49m\u001B[43mcov\u001B[49m\u001B[43m,\u001B[49m\u001B[43m \u001B[49m\u001B[43msize\u001B[49m\u001B[43m,\u001B[49m\u001B[43m \u001B[49m\u001B[43mrandom_state\u001B[49m\u001B[43m)\u001B[49m\n",
      "File \u001B[0;32m/opt/miniconda3/envs/SOMA/lib/python3.9/site-packages/scipy/stats/_multivariate.py:653\u001B[0m, in \u001B[0;36mmultivariate_normal_gen.rvs\u001B[0;34m(self, mean, cov, size, random_state)\u001B[0m\n\u001B[1;32m    650\u001B[0m dim, mean, cov \u001B[38;5;241m=\u001B[39m \u001B[38;5;28mself\u001B[39m\u001B[38;5;241m.\u001B[39m_process_parameters(\u001B[38;5;28;01mNone\u001B[39;00m, mean, cov)\n\u001B[1;32m    652\u001B[0m random_state \u001B[38;5;241m=\u001B[39m \u001B[38;5;28mself\u001B[39m\u001B[38;5;241m.\u001B[39m_get_random_state(random_state)\n\u001B[0;32m--> 653\u001B[0m out \u001B[38;5;241m=\u001B[39m \u001B[43mrandom_state\u001B[49m\u001B[38;5;241;43m.\u001B[39;49m\u001B[43mmultivariate_normal\u001B[49m\u001B[43m(\u001B[49m\u001B[43mmean\u001B[49m\u001B[43m,\u001B[49m\u001B[43m \u001B[49m\u001B[43mcov\u001B[49m\u001B[43m,\u001B[49m\u001B[43m \u001B[49m\u001B[43msize\u001B[49m\u001B[43m)\u001B[49m\n\u001B[1;32m    654\u001B[0m \u001B[38;5;28;01mreturn\u001B[39;00m _squeeze_output(out)\n",
      "File \u001B[0;32mmtrand.pyx:4132\u001B[0m, in \u001B[0;36mnumpy.random.mtrand.RandomState.multivariate_normal\u001B[0;34m()\u001B[0m\n",
      "File \u001B[0;32m<__array_function__ internals>:180\u001B[0m, in \u001B[0;36msvd\u001B[0;34m(*args, **kwargs)\u001B[0m\n",
      "File \u001B[0;32m/opt/miniconda3/envs/SOMA/lib/python3.9/site-packages/numpy/linalg/linalg.py:1648\u001B[0m, in \u001B[0;36msvd\u001B[0;34m(a, full_matrices, compute_uv, hermitian)\u001B[0m\n\u001B[1;32m   1645\u001B[0m         gufunc \u001B[38;5;241m=\u001B[39m _umath_linalg\u001B[38;5;241m.\u001B[39msvd_n_s\n\u001B[1;32m   1647\u001B[0m signature \u001B[38;5;241m=\u001B[39m \u001B[38;5;124m'\u001B[39m\u001B[38;5;124mD->DdD\u001B[39m\u001B[38;5;124m'\u001B[39m \u001B[38;5;28;01mif\u001B[39;00m isComplexType(t) \u001B[38;5;28;01melse\u001B[39;00m \u001B[38;5;124m'\u001B[39m\u001B[38;5;124md->ddd\u001B[39m\u001B[38;5;124m'\u001B[39m\n\u001B[0;32m-> 1648\u001B[0m u, s, vh \u001B[38;5;241m=\u001B[39m \u001B[43mgufunc\u001B[49m\u001B[43m(\u001B[49m\u001B[43ma\u001B[49m\u001B[43m,\u001B[49m\u001B[43m \u001B[49m\u001B[43msignature\u001B[49m\u001B[38;5;241;43m=\u001B[39;49m\u001B[43msignature\u001B[49m\u001B[43m,\u001B[49m\u001B[43m \u001B[49m\u001B[43mextobj\u001B[49m\u001B[38;5;241;43m=\u001B[39;49m\u001B[43mextobj\u001B[49m\u001B[43m)\u001B[49m\n\u001B[1;32m   1649\u001B[0m u \u001B[38;5;241m=\u001B[39m u\u001B[38;5;241m.\u001B[39mastype(result_t, copy\u001B[38;5;241m=\u001B[39m\u001B[38;5;28;01mFalse\u001B[39;00m)\n\u001B[1;32m   1650\u001B[0m s \u001B[38;5;241m=\u001B[39m s\u001B[38;5;241m.\u001B[39mastype(_realType(result_t), copy\u001B[38;5;241m=\u001B[39m\u001B[38;5;28;01mFalse\u001B[39;00m)\n",
      "\u001B[0;31mKeyboardInterrupt\u001B[0m: "
     ]
    }
   ],
   "source": [
    "nsf_results = stat_errors_vs_sample_size(nsf1, nsf2, tests, samples, repeat=repeat)\n",
    "nsf_results.to_csv('../../results/sample_size/nsf_results_samples.csv')\n",
    "nsf_results = pandas.read_csv('../../results/sample_size/nsf_results_samples.csv', index_col=[0, 1])"
   ],
   "metadata": {
    "collapsed": false,
    "pycharm": {
     "name": "#%%\n"
    }
   }
  },
  {
   "cell_type": "code",
   "execution_count": null,
   "outputs": [],
   "source": [
    "normal_scale_fair_fig = plot_errors(nsf_results, logscale=True, show_time=True)\n",
    "normal_scale_fair_fig.savefig(os.path.join(plot_dir, 'normal_scale_fair_power_samples.eps'), bbox_inches='tight')"
   ],
   "metadata": {
    "collapsed": false,
    "pycharm": {
     "name": "#%%\n"
    }
   }
  },
  {
   "cell_type": "code",
   "execution_count": 10,
   "outputs": [],
   "source": [],
   "metadata": {
    "collapsed": false,
    "pycharm": {
     "name": "#%%\n"
    }
   }
  }
 ],
 "metadata": {
  "kernelspec": {
   "display_name": "Python 3",
   "language": "python",
   "name": "python3"
  },
  "language_info": {
   "codemirror_mode": {
    "name": "ipython",
    "version": 2
   },
   "file_extension": ".py",
   "mimetype": "text/x-python",
   "name": "python",
   "nbconvert_exporter": "python",
   "pygments_lexer": "ipython2",
   "version": "2.7.6"
  }
 },
 "nbformat": 4,
 "nbformat_minor": 0
}