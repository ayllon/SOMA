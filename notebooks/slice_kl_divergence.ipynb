{
 "cells": [
  {
   "cell_type": "code",
   "execution_count": 21,
   "metadata": {
    "tags": []
   },
   "outputs": [],
   "source": [
    "import matplotlib.pyplot as plt\n",
    "import numpy as np\n",
    "import os\n",
    "import warnings\n",
    "\n",
    "warnings.simplefilter(\"ignore\")\n",
    "\n",
    "from soma.generators.kbest import KBestGenerator\n",
    "#from soma.generators.mnist import MnistGenerator\n",
    "from soma.generators.normal import MultivariateNormalGenerator\n",
    "from soma.generators.dc2 import DC2Generator\n",
    "from soma.util.divergence import divergence_vs_dimension\n",
    "from soma.util.plot import plot_divergences\n",
    "\n",
    "plt.style.use('seaborn')\n",
    "plt.style.use('seaborn-paper')\n",
    "plt.rcParams.update({\n",
    "    'figure.figsize': (3.5, 2.5),\n",
    "    'text.usetex': True,\n",
    "    'savefig.bbox': 'tight',\n",
    "    'savefig.pad_inches': 0\n",
    "})"
   ]
  },
  {
   "cell_type": "code",
   "execution_count": 2,
   "outputs": [],
   "source": [
    "plot_dir = os.path.expanduser('~/Plots/kbest')\n",
    "os.makedirs(plot_dir, exist_ok=True)"
   ],
   "metadata": {
    "collapsed": false,
    "pycharm": {
     "name": "#%%\n"
    }
   }
  },
  {
   "cell_type": "markdown",
   "metadata": {
    "pycharm": {
     "name": "#%% md\n"
    }
   },
   "source": [
    "# DC2 MAG Filtered"
   ]
  },
  {
   "cell_type": "code",
   "execution_count": 3,
   "metadata": {
    "collapsed": false,
    "jupyter": {
     "outputs_hidden": false
    },
    "pycharm": {
     "name": "#%%\n"
    }
   },
   "outputs": [],
   "source": [
    "dc2 = DC2Generator()\n",
    "dc2_abs = DC2Generator(abs_mag=22)"
   ]
  },
  {
   "cell_type": "code",
   "execution_count": 4,
   "metadata": {
    "collapsed": false,
    "jupyter": {
     "outputs_hidden": false
    },
    "pycharm": {
     "name": "#%%\n"
    }
   },
   "outputs": [
    {
     "data": {
      "text/plain": "  0%|          | 0/4 [00:00<?, ?it/s]",
      "application/vnd.jupyter.widget-view+json": {
       "version_major": 2,
       "version_minor": 0,
       "model_id": "b302a664dca34381953ff6453061a86b"
      }
     },
     "metadata": {},
     "output_type": "display_data"
    }
   ],
   "source": [
    "dc2_dim, dc2_mean, dc2_std, dc2_div = divergence_vs_dimension(dc2, dc2_abs, KBestGenerator)"
   ]
  },
  {
   "cell_type": "code",
   "execution_count": 22,
   "metadata": {
    "collapsed": false,
    "jupyter": {
     "outputs_hidden": false
    },
    "pycharm": {
     "name": "#%%\n"
    }
   },
   "outputs": [
    {
     "data": {
      "text/plain": "<Figure size 252x180 with 1 Axes>",
      "image/png": "[encoded data removed]"
     },
     "metadata": {},
     "output_type": "display_data"
    }
   ],
   "source": [
    "dc2_mag_fig = plt.figure()\n",
    "plot_divergences(dc2_dim, dc2_div, dc2_mean, dc2_std, label='KBest')\n",
    "dc2_mag_fig.savefig(os.path.join(plot_dir, 'dc2_mag_divergence.eps'))\n",
    "dc2_mag_fig.show()"
   ]
  },
  {
   "cell_type": "markdown",
   "metadata": {},
   "source": [
    "# DC2 SNR"
   ]
  },
  {
   "cell_type": "code",
   "execution_count": 6,
   "metadata": {},
   "outputs": [],
   "source": [
    "dc2_snr = DC2Generator(snr=10)"
   ]
  },
  {
   "cell_type": "code",
   "execution_count": 7,
   "metadata": {},
   "outputs": [
    {
     "data": {
      "text/plain": "  0%|          | 0/4 [00:00<?, ?it/s]",
      "application/vnd.jupyter.widget-view+json": {
       "version_major": 2,
       "version_minor": 0,
       "model_id": "3e5bb438513f420c8b90c6512d7004e1"
      }
     },
     "metadata": {},
     "output_type": "display_data"
    }
   ],
   "source": [
    "dc2_snr_dim, dc2_snr_mean, dc2_snr_std, dc2_snr_div = divergence_vs_dimension(dc2, dc2_snr, KBestGenerator)"
   ]
  },
  {
   "cell_type": "code",
   "execution_count": 23,
   "metadata": {},
   "outputs": [
    {
     "data": {
      "text/plain": "<Figure size 252x180 with 1 Axes>",
      "image/png": "[encoded data removed]"
     },
     "metadata": {},
     "output_type": "display_data"
    }
   ],
   "source": [
    "dc2_snr_fig = plt.figure()\n",
    "plot_divergences(dc2_snr_dim, dc2_snr_div, dc2_snr_mean, dc2_snr_std, label='KBest')\n",
    "dc2_snr_fig.savefig(os.path.join(plot_dir, 'dc2_snr_divergence.eps'))\n",
    "dc2_snr_fig.show()"
   ]
  },
  {
   "cell_type": "markdown",
   "metadata": {
    "pycharm": {
     "name": "#%% md\n"
    }
   },
   "source": [
    "# MNIST"
   ]
  },
  {
   "cell_type": "raw",
   "metadata": {
    "collapsed": false,
    "jupyter": {
     "outputs_hidden": false
    },
    "pycharm": {
     "name": "#%% raw\n"
    }
   },
   "source": [
    "mnist2 = MnistGenerator(2)\n",
    "mnist3 = MnistGenerator(3)"
   ]
  },
  {
   "cell_type": "raw",
   "metadata": {
    "collapsed": false,
    "jupyter": {
     "outputs_hidden": false
    },
    "pycharm": {
     "name": "#%% raw\n"
    }
   },
   "source": [
    "mnist_dim, mnist_mean, mnist_std, mnist_div = divergence_vs_dimension(mnist2, mnist3, KBestGenerator, step=20)"
   ]
  },
  {
   "cell_type": "raw",
   "metadata": {
    "collapsed": false,
    "jupyter": {
     "outputs_hidden": false
    },
    "pycharm": {
     "name": "#%% raw\n"
    }
   },
   "source": [
    "mnist_fig = plt.figure()\n",
    "plot_divergences(mnist_dim, mnist_div, mnist_mean, mnist_std, label='KBest')\n",
    "mnist_fig.savefig(os.path.join(plot_dir, 'mnist_divergence.eps'))\n",
    "mnist_fig.show()"
   ]
  },
  {
   "cell_type": "markdown",
   "metadata": {
    "pycharm": {
     "name": "#%% md\n"
    }
   },
   "source": [
    "# Normal (location)"
   ]
  },
  {
   "cell_type": "code",
   "execution_count": 9,
   "metadata": {
    "collapsed": false,
    "jupyter": {
     "outputs_hidden": false
    },
    "pycharm": {
     "name": "#%%\n"
    }
   },
   "outputs": [],
   "source": [
    "means = np.zeros(1000)\n",
    "means2 = np.ones(1000)\n",
    "\n",
    "n1 = MultivariateNormalGenerator(means, cov=np.diag(np.ones(1000)))\n",
    "n2 = MultivariateNormalGenerator(means2, cov=np.diag(np.ones(1000)))"
   ]
  },
  {
   "cell_type": "code",
   "execution_count": 10,
   "metadata": {
    "collapsed": false,
    "jupyter": {
     "outputs_hidden": false
    },
    "pycharm": {
     "name": "#%%\n"
    }
   },
   "outputs": [
    {
     "data": {
      "text/plain": "  0%|          | 0/21 [00:00<?, ?it/s]",
      "application/vnd.jupyter.widget-view+json": {
       "version_major": 2,
       "version_minor": 0,
       "model_id": "55acb7b58a5c43588aae67c288f4d51b"
      }
     },
     "metadata": {},
     "output_type": "display_data"
    }
   ],
   "source": [
    "normal_dim, normal_mean, normal_std, normal_div = divergence_vs_dimension(n1, n2, KBestGenerator, step=50)"
   ]
  },
  {
   "cell_type": "code",
   "execution_count": 24,
   "metadata": {
    "collapsed": false,
    "jupyter": {
     "outputs_hidden": false
    },
    "pycharm": {
     "name": "#%%\n"
    }
   },
   "outputs": [
    {
     "data": {
      "text/plain": "<Figure size 252x180 with 1 Axes>",
      "image/png": "[encoded data removed]"
     },
     "metadata": {},
     "output_type": "display_data"
    }
   ],
   "source": [
    "norm_loc111_fig = plt.figure()\n",
    "plot_divergences(normal_dim, normal_div, normal_mean, normal_std, label='KBest')\n",
    "norm_loc111_fig.savefig(os.path.join(plot_dir, 'normal_111_divergence.eps'))\n",
    "norm_loc111_fig.show()"
   ]
  },
  {
   "cell_type": "markdown",
   "source": [
    "# Normal (location, fair)"
   ],
   "metadata": {
    "collapsed": false,
    "pycharm": {
     "name": "#%% md\n"
    }
   }
  },
  {
   "cell_type": "code",
   "execution_count": 12,
   "metadata": {
    "collapsed": false,
    "jupyter": {
     "outputs_hidden": false
    },
    "pycharm": {
     "name": "#%%\n"
    }
   },
   "outputs": [],
   "source": [
    "means3 = np.zeros(1000)\n",
    "means2[0] = 1.\n",
    "\n",
    "n3 = MultivariateNormalGenerator(means3, cov=np.diag(np.ones(1000)))"
   ]
  },
  {
   "cell_type": "code",
   "execution_count": 13,
   "metadata": {
    "collapsed": false,
    "jupyter": {
     "outputs_hidden": false
    },
    "pycharm": {
     "name": "#%%\n"
    }
   },
   "outputs": [
    {
     "data": {
      "text/plain": "  0%|          | 0/21 [00:00<?, ?it/s]",
      "application/vnd.jupyter.widget-view+json": {
       "version_major": 2,
       "version_minor": 0,
       "model_id": "d3e495d381564a10ad327c1e5668135e"
      }
     },
     "metadata": {},
     "output_type": "display_data"
    }
   ],
   "source": [
    "_, n3_mean, n3_std, n3_div = divergence_vs_dimension(n1, n3, KBestGenerator, step=50)"
   ]
  },
  {
   "cell_type": "code",
   "execution_count": 25,
   "metadata": {
    "collapsed": false,
    "jupyter": {
     "outputs_hidden": false
    },
    "pycharm": {
     "name": "#%%\n"
    }
   },
   "outputs": [
    {
     "data": {
      "text/plain": "<Figure size 252x180 with 1 Axes>",
      "image/png": "[encoded data removed]"
     },
     "metadata": {},
     "output_type": "display_data"
    }
   ],
   "source": [
    "norm_fair_fig = plt.figure()\n",
    "plot_divergences(normal_dim, n3_div, n3_mean, n3_std, label='KBest')\n",
    "norm_fair_fig.savefig(os.path.join(plot_dir, 'normal_fair_divergence.eps'))\n",
    "norm_fair_fig.show()"
   ]
  },
  {
   "cell_type": "markdown",
   "metadata": {
    "pycharm": {
     "name": "#%% md\n"
    }
   },
   "source": [
    "# Normal (scale)"
   ]
  },
  {
   "cell_type": "code",
   "execution_count": 15,
   "outputs": [],
   "source": [
    "ns1 = MultivariateNormalGenerator(means, wishart_df=len(means) + 1)\n",
    "ns2 = MultivariateNormalGenerator(means, wishart_df=len(means) + 1)"
   ],
   "metadata": {
    "collapsed": false,
    "pycharm": {
     "name": "#%%\n"
    }
   }
  },
  {
   "cell_type": "code",
   "execution_count": 16,
   "outputs": [
    {
     "data": {
      "text/plain": "  0%|          | 0/21 [00:00<?, ?it/s]",
      "application/vnd.jupyter.widget-view+json": {
       "version_major": 2,
       "version_minor": 0,
       "model_id": "34dec85deb52482ea0970a81855cf64d"
      }
     },
     "metadata": {},
     "output_type": "display_data"
    }
   ],
   "source": [
    "_, ns_mean, ns_std, ns_div = divergence_vs_dimension(ns1, ns2, KBestGenerator, step=50)"
   ],
   "metadata": {
    "collapsed": false,
    "pycharm": {
     "name": "#%%\n"
    }
   }
  },
  {
   "cell_type": "code",
   "execution_count": 26,
   "outputs": [
    {
     "data": {
      "text/plain": "<Figure size 252x180 with 1 Axes>",
      "image/png": "[encoded data removed]"
     },
     "metadata": {},
     "output_type": "display_data"
    }
   ],
   "source": [
    "norm_scale_fig = plt.figure()\n",
    "plot_divergences(normal_dim, ns_div, ns_mean, ns_std, label='KBest')\n",
    "norm_scale_fig.savefig(os.path.join(plot_dir, 'normal_scale_divergence.eps'))\n",
    "norm_scale_fig.show()"
   ],
   "metadata": {
    "collapsed": false,
    "pycharm": {
     "name": "#%%\n"
    }
   }
  },
  {
   "cell_type": "markdown",
   "source": [
    "# Normal (scale, fair)"
   ],
   "metadata": {
    "collapsed": false,
    "pycharm": {
     "name": "#%% md\n"
    }
   }
  },
  {
   "cell_type": "code",
   "execution_count": 18,
   "outputs": [],
   "source": [
    "nsf1_cov = np.identity(len(means))\n",
    "nsf2_cov = np.identity(len(means))\n",
    "nsf1_cov[-1, -1] = 4.\n",
    "\n",
    "nsf1 = MultivariateNormalGenerator(means, cov=nsf1_cov)\n",
    "nsf2 = MultivariateNormalGenerator(means, cov=nsf2_cov)"
   ],
   "metadata": {
    "collapsed": false,
    "pycharm": {
     "name": "#%%\n"
    }
   }
  },
  {
   "cell_type": "code",
   "execution_count": 19,
   "outputs": [
    {
     "data": {
      "text/plain": "  0%|          | 0/11 [00:00<?, ?it/s]",
      "application/vnd.jupyter.widget-view+json": {
       "version_major": 2,
       "version_minor": 0,
       "model_id": "2b6b508fb6e4411f8180efd6f0d52642"
      }
     },
     "metadata": {},
     "output_type": "display_data"
    }
   ],
   "source": [
    "nsf_dim, nsf_mean, nsf_std, nsf_div = divergence_vs_dimension(nsf1, nsf2, KBestGenerator, step=100)"
   ],
   "metadata": {
    "collapsed": false,
    "pycharm": {
     "name": "#%%\n"
    }
   }
  },
  {
   "cell_type": "code",
   "execution_count": 27,
   "outputs": [
    {
     "data": {
      "text/plain": "<Figure size 252x180 with 1 Axes>",
      "image/png": "[encoded data removed]"
     },
     "metadata": {},
     "output_type": "display_data"
    }
   ],
   "source": [
    "norm_scale_fair_fig = plt.figure()\n",
    "plot_divergences(nsf_dim, nsf_div, nsf_mean, nsf_std, label='KBest')\n",
    "norm_scale_fair_fig.savefig(os.path.join(plot_dir, 'normal_scale_fair.eps'))\n",
    "norm_scale_fair_fig.show()"
   ],
   "metadata": {
    "collapsed": false,
    "pycharm": {
     "name": "#%%\n"
    }
   }
  },
  {
   "cell_type": "code",
   "execution_count": 20,
   "outputs": [],
   "source": [],
   "metadata": {
    "collapsed": false,
    "pycharm": {
     "name": "#%%\n"
    }
   }
  }
 ],
 "metadata": {
  "kernelspec": {
   "display_name": "Python 3 (ipykernel)",
   "language": "python",
   "name": "python3"
  },
  "language_info": {
   "codemirror_mode": {
    "name": "ipython",
    "version": 3
   },
   "file_extension": ".py",
   "mimetype": "text/x-python",
   "name": "python",
   "nbconvert_exporter": "python",
   "pygments_lexer": "ipython3",
   "version": "3.9.7"
  }
 },
 "nbformat": 4,
 "nbformat_minor": 4
}