{
 "cells": [
  {
   "cell_type": "code",
   "execution_count": 1,
   "metadata": {
    "collapsed": true
   },
   "outputs": [],
   "source": [
    "import itertools\n",
    "import warnings\n",
    "\n",
    "import matplotlib.pyplot as plt\n",
    "import numpy as np\n",
    "import pandas\n",
    "from tqdm.notebook import tqdm\n",
    "\n",
    "warnings.simplefilter(\"ignore\")\n",
    "\n",
    "plt.style.use('seaborn')\n",
    "plt.style.use('seaborn-notebook')\n",
    "\n",
    "from soma.util.errors import compute_errors\n",
    "from soma.generators.eye import EyeGenerator\n",
    "from soma.tests.som import som_test"
   ]
  },
  {
   "cell_type": "code",
   "execution_count": 2,
   "outputs": [
    {
     "data": {
      "text/plain": "{'R': 4262, 'I': 3804, 'C': 2870}"
     },
     "execution_count": 2,
     "metadata": {},
     "output_type": "execute_result"
    }
   ],
   "source": [
    "counts_per_label = EyeGenerator.count_per_label()\n",
    "counts_per_label"
   ],
   "metadata": {
    "collapsed": false,
    "pycharm": {
     "name": "#%%\n"
    }
   }
  },
  {
   "cell_type": "code",
   "execution_count": 3,
   "outputs": [],
   "source": [
    "generators = dict(\n",
    "    C=EyeGenerator('C'),\n",
    "    I=EyeGenerator('I'),\n",
    "    R=EyeGenerator('R'),\n",
    ")"
   ],
   "metadata": {
    "collapsed": false,
    "pycharm": {
     "name": "#%%\n"
    }
   }
  },
  {
   "cell_type": "markdown",
   "source": [
    "Comparing with\n",
    "\n",
    "*A Fast and Effective Large-Scale Two-Sample Test Based on Kernels*"
   ],
   "metadata": {
    "collapsed": false,
    "pycharm": {
     "name": "#%% md\n"
    }
   }
  },
  {
   "cell_type": "markdown",
   "source": [
    "# p-values\n",
    "As table 6, 0 is better (rejects they are equal)"
   ],
   "metadata": {
    "collapsed": false,
    "pycharm": {
     "name": "#%% md\n"
    }
   }
  },
  {
   "cell_type": "code",
   "execution_count": 4,
   "outputs": [],
   "source": [
    "pairwise = list(itertools.combinations(generators.keys(), 2))"
   ],
   "metadata": {
    "collapsed": false,
    "pycharm": {
     "name": "#%%\n"
    }
   }
  },
  {
   "cell_type": "code",
   "execution_count": 5,
   "outputs": [
    {
     "data": {
      "text/plain": "          0\nC vs I  0.0\nC vs R  0.0\nI vs R  0.0",
      "text/html": "<div>\n<style scoped>\n    .dataframe tbody tr th:only-of-type {\n        vertical-align: middle;\n    }\n\n    .dataframe tbody tr th {\n        vertical-align: top;\n    }\n\n    .dataframe thead th {\n        text-align: right;\n    }\n</style>\n<table border=\"1\" class=\"dataframe\">\n  <thead>\n    <tr style=\"text-align: right;\">\n      <th></th>\n      <th>0</th>\n    </tr>\n  </thead>\n  <tbody>\n    <tr>\n      <th>C vs I</th>\n      <td>0.0</td>\n    </tr>\n    <tr>\n      <th>C vs R</th>\n      <td>0.0</td>\n    </tr>\n    <tr>\n      <th>I vs R</th>\n      <td>0.0</td>\n    </tr>\n  </tbody>\n</table>\n</div>"
     },
     "execution_count": 5,
     "metadata": {},
     "output_type": "execute_result"
    }
   ],
   "source": [
    "results = {}\n",
    "for a, b in pairwise:\n",
    "    sample_size = min(counts_per_label[a], counts_per_label[b])\n",
    "    results[f'{a} vs {b}'] = som_test(generators[a].sample(sample_size), generators[b].sample(sample_size))\n",
    "results = pandas.DataFrame.from_dict(results, orient='index')\n",
    "results"
   ],
   "metadata": {
    "collapsed": false,
    "pycharm": {
     "name": "#%%\n"
    }
   }
  },
  {
   "cell_type": "markdown",
   "source": [
    "# Power of the test\n",
    "As table 8, higher is better"
   ],
   "metadata": {
    "collapsed": false,
    "pycharm": {
     "name": "#%% md\n"
    }
   }
  },
  {
   "cell_type": "code",
   "execution_count": 8,
   "outputs": [],
   "source": [
    "sample_sizes = np.arange(1, 5) * 100\n",
    "significance = 0.001\n",
    "repeat = int(5 * (1 / significance))"
   ],
   "metadata": {
    "collapsed": false,
    "pycharm": {
     "name": "#%%\n"
    }
   }
  },
  {
   "cell_type": "markdown",
   "source": [
    "## I vs C"
   ],
   "metadata": {
    "collapsed": false,
    "pycharm": {
     "name": "#%% md\n"
    }
   }
  },
  {
   "cell_type": "code",
   "execution_count": 9,
   "outputs": [
    {
     "data": {
      "text/plain": "  0%|          | 0/4 [00:00<?, ?it/s]",
      "application/vnd.jupyter.widget-view+json": {
       "version_major": 2,
       "version_minor": 0,
       "model_id": "16b8f939c2c744d1b8914267a4417926"
      }
     },
     "metadata": {},
     "output_type": "display_data"
    },
    {
     "data": {
      "text/plain": "     error1   power\n100     0.0  0.0432\n200     0.0  0.9368\n300     0.0  1.0000\n400     0.0  1.0000",
      "text/html": "<div>\n<style scoped>\n    .dataframe tbody tr th:only-of-type {\n        vertical-align: middle;\n    }\n\n    .dataframe tbody tr th {\n        vertical-align: top;\n    }\n\n    .dataframe thead th {\n        text-align: right;\n    }\n</style>\n<table border=\"1\" class=\"dataframe\">\n  <thead>\n    <tr style=\"text-align: right;\">\n      <th></th>\n      <th>error1</th>\n      <th>power</th>\n    </tr>\n  </thead>\n  <tbody>\n    <tr>\n      <th>100</th>\n      <td>0.0</td>\n      <td>0.0432</td>\n    </tr>\n    <tr>\n      <th>200</th>\n      <td>0.0</td>\n      <td>0.9368</td>\n    </tr>\n    <tr>\n      <th>300</th>\n      <td>0.0</td>\n      <td>1.0000</td>\n    </tr>\n    <tr>\n      <th>400</th>\n      <td>0.0</td>\n      <td>1.0000</td>\n    </tr>\n  </tbody>\n</table>\n</div>"
     },
     "execution_count": 9,
     "metadata": {},
     "output_type": "execute_result"
    }
   ],
   "source": [
    "results = {'error1': [], 'power': []}\n",
    "for sample_size in tqdm(sample_sizes):\n",
    "    error1, error2 = compute_errors(generators['I'], generators['C'], som_test, alpha=significance, samples=sample_size, repeat=repeat)\n",
    "    results['error1'].append(error1)\n",
    "    results['power'].append(1. - error2)\n",
    "results = pandas.DataFrame.from_dict(results).set_index(sample_sizes)\n",
    "results"
   ],
   "metadata": {
    "collapsed": false,
    "pycharm": {
     "name": "#%%\n"
    }
   }
  },
  {
   "cell_type": "markdown",
   "source": [
    "## I vs R"
   ],
   "metadata": {
    "collapsed": false,
    "pycharm": {
     "name": "#%% md\n"
    }
   }
  },
  {
   "cell_type": "code",
   "execution_count": 10,
   "outputs": [
    {
     "data": {
      "text/plain": "  0%|          | 0/4 [00:00<?, ?it/s]",
      "application/vnd.jupyter.widget-view+json": {
       "version_major": 2,
       "version_minor": 0,
       "model_id": "df874e7e58d74d7d87f62e787fa3ce5c"
      }
     },
     "metadata": {},
     "output_type": "display_data"
    },
    {
     "data": {
      "text/plain": "     error1   power\n100  0.0000  0.0000\n200  0.0000  0.0018\n300  0.0000  0.0078\n400  0.0002  0.0248",
      "text/html": "<div>\n<style scoped>\n    .dataframe tbody tr th:only-of-type {\n        vertical-align: middle;\n    }\n\n    .dataframe tbody tr th {\n        vertical-align: top;\n    }\n\n    .dataframe thead th {\n        text-align: right;\n    }\n</style>\n<table border=\"1\" class=\"dataframe\">\n  <thead>\n    <tr style=\"text-align: right;\">\n      <th></th>\n      <th>error1</th>\n      <th>power</th>\n    </tr>\n  </thead>\n  <tbody>\n    <tr>\n      <th>100</th>\n      <td>0.0000</td>\n      <td>0.0000</td>\n    </tr>\n    <tr>\n      <th>200</th>\n      <td>0.0000</td>\n      <td>0.0018</td>\n    </tr>\n    <tr>\n      <th>300</th>\n      <td>0.0000</td>\n      <td>0.0078</td>\n    </tr>\n    <tr>\n      <th>400</th>\n      <td>0.0002</td>\n      <td>0.0248</td>\n    </tr>\n  </tbody>\n</table>\n</div>"
     },
     "execution_count": 10,
     "metadata": {},
     "output_type": "execute_result"
    }
   ],
   "source": [
    "results = {'error1': [], 'power': []}\n",
    "for sample_size in tqdm(sample_sizes):\n",
    "    error1, error2 = compute_errors(generators['I'], generators['R'], som_test, alpha=significance, samples=sample_size, repeat=repeat)\n",
    "    results['error1'].append(error1)\n",
    "    results['power'].append(1. - error2)\n",
    "results = pandas.DataFrame.from_dict(results).set_index(sample_sizes)\n",
    "results"
   ],
   "metadata": {
    "collapsed": false,
    "pycharm": {
     "name": "#%%\n"
    }
   }
  },
  {
   "cell_type": "markdown",
   "source": [
    "## R vs C"
   ],
   "metadata": {
    "collapsed": false,
    "pycharm": {
     "name": "#%% md\n"
    }
   }
  },
  {
   "cell_type": "code",
   "execution_count": 11,
   "outputs": [
    {
     "data": {
      "text/plain": "  0%|          | 0/4 [00:00<?, ?it/s]",
      "application/vnd.jupyter.widget-view+json": {
       "version_major": 2,
       "version_minor": 0,
       "model_id": "6ef9d320863541f6a0e75bb25070a940"
      }
     },
     "metadata": {},
     "output_type": "display_data"
    },
    {
     "data": {
      "text/plain": "     error1   power\n100  0.0000  0.0078\n200  0.0000  0.6836\n300  0.0000  0.9908\n400  0.0004  1.0000",
      "text/html": "<div>\n<style scoped>\n    .dataframe tbody tr th:only-of-type {\n        vertical-align: middle;\n    }\n\n    .dataframe tbody tr th {\n        vertical-align: top;\n    }\n\n    .dataframe thead th {\n        text-align: right;\n    }\n</style>\n<table border=\"1\" class=\"dataframe\">\n  <thead>\n    <tr style=\"text-align: right;\">\n      <th></th>\n      <th>error1</th>\n      <th>power</th>\n    </tr>\n  </thead>\n  <tbody>\n    <tr>\n      <th>100</th>\n      <td>0.0000</td>\n      <td>0.0078</td>\n    </tr>\n    <tr>\n      <th>200</th>\n      <td>0.0000</td>\n      <td>0.6836</td>\n    </tr>\n    <tr>\n      <th>300</th>\n      <td>0.0000</td>\n      <td>0.9908</td>\n    </tr>\n    <tr>\n      <th>400</th>\n      <td>0.0004</td>\n      <td>1.0000</td>\n    </tr>\n  </tbody>\n</table>\n</div>"
     },
     "execution_count": 11,
     "metadata": {},
     "output_type": "execute_result"
    }
   ],
   "source": [
    "results = {'error1': [], 'power': []}\n",
    "for sample_size in tqdm(sample_sizes):\n",
    "    error1, error2 = compute_errors(generators['R'], generators['C'], som_test, alpha=significance, samples=sample_size, repeat=repeat)\n",
    "    results['error1'].append(error1)\n",
    "    results['power'].append(1. - error2)\n",
    "results = pandas.DataFrame.from_dict(results).set_index(sample_sizes)\n",
    "results"
   ],
   "metadata": {
    "collapsed": false,
    "pycharm": {
     "name": "#%%\n"
    }
   }
  },
  {
   "cell_type": "markdown",
   "source": [
    "## I vs I\n",
    "\n",
    "Obviously this must report a low power, since it should **not** be able to reject $H_0$ (both distributions are the same!).\n",
    "This is a cross-check to verify the code is working as intended."
   ],
   "metadata": {
    "collapsed": false,
    "pycharm": {
     "name": "#%% md\n"
    }
   }
  },
  {
   "cell_type": "code",
   "execution_count": 12,
   "outputs": [
    {
     "data": {
      "text/plain": "  0%|          | 0/4 [00:00<?, ?it/s]",
      "application/vnd.jupyter.widget-view+json": {
       "version_major": 2,
       "version_minor": 0,
       "model_id": "17fb17f55cb1406c8e31d722fe8f3c13"
      }
     },
     "metadata": {},
     "output_type": "display_data"
    },
    {
     "data": {
      "text/plain": "     error1  power\n100     0.0    0.0\n200     0.0    0.0\n300     0.0    0.0\n400     0.0    0.0",
      "text/html": "<div>\n<style scoped>\n    .dataframe tbody tr th:only-of-type {\n        vertical-align: middle;\n    }\n\n    .dataframe tbody tr th {\n        vertical-align: top;\n    }\n\n    .dataframe thead th {\n        text-align: right;\n    }\n</style>\n<table border=\"1\" class=\"dataframe\">\n  <thead>\n    <tr style=\"text-align: right;\">\n      <th></th>\n      <th>error1</th>\n      <th>power</th>\n    </tr>\n  </thead>\n  <tbody>\n    <tr>\n      <th>100</th>\n      <td>0.0</td>\n      <td>0.0</td>\n    </tr>\n    <tr>\n      <th>200</th>\n      <td>0.0</td>\n      <td>0.0</td>\n    </tr>\n    <tr>\n      <th>300</th>\n      <td>0.0</td>\n      <td>0.0</td>\n    </tr>\n    <tr>\n      <th>400</th>\n      <td>0.0</td>\n      <td>0.0</td>\n    </tr>\n  </tbody>\n</table>\n</div>"
     },
     "execution_count": 12,
     "metadata": {},
     "output_type": "execute_result"
    }
   ],
   "source": [
    "results = {'error1': [], 'power': []}\n",
    "for sample_size in tqdm(sample_sizes):\n",
    "    error1, error2 = compute_errors(generators['I'], generators['I'], som_test, alpha=significance, samples=sample_size, repeat=repeat)\n",
    "    results['error1'].append(error1)\n",
    "    results['power'].append(1. - error2)\n",
    "results = pandas.DataFrame.from_dict(results).set_index(sample_sizes)\n",
    "results"
   ],
   "metadata": {
    "collapsed": false,
    "pycharm": {
     "name": "#%%\n"
    }
   }
  },
  {
   "cell_type": "code",
   "execution_count": null,
   "outputs": [],
   "source": [],
   "metadata": {
    "collapsed": false,
    "pycharm": {
     "name": "#%%\n"
    }
   }
  }
 ],
 "metadata": {
  "kernelspec": {
   "display_name": "Python 3",
   "language": "python",
   "name": "python3"
  },
  "language_info": {
   "codemirror_mode": {
    "name": "ipython",
    "version": 2
   },
   "file_extension": ".py",
   "mimetype": "text/x-python",
   "name": "python",
   "nbconvert_exporter": "python",
   "pygments_lexer": "ipython2",
   "version": "2.7.6"
  }
 },
 "nbformat": 4,
 "nbformat_minor": 0
}