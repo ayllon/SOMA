{
 "cells": [
  {
   "cell_type": "code",
   "execution_count": 1,
   "metadata": {
    "collapsed": true
   },
   "outputs": [],
   "source": [
    "import itertools\n",
    "import os\n",
    "import warnings\n",
    "\n",
    "from matplotlib.gridspec import GridSpec\n",
    "\n",
    "warnings.simplefilter(\"ignore\")\n",
    "import matplotlib.pyplot as plt\n",
    "import numpy as np\n",
    "import pandas\n",
    "from pandas import DataFrame\n",
    "\n",
    "from soma.util.plot import plot_errors, lock_axes\n",
    "from soma.util.errors import stat_errors_vs_sample_size\n",
    "from soma.generators.eye import EyeGenerator\n",
    "from soma.tests.som import som_test\n",
    "from soma.tests.knn import knn_test\n",
    "from soma.tests.c2st import c2s_nn_test, c2s_knn_test\n",
    "\n",
    "plt.style.use('seaborn')\n",
    "plt.style.use('seaborn-paper')\n",
    "plt.style.use('tableau-colorblind10')\n",
    "plt.rcParams.update({\n",
    "    'figure.figsize': (4.77, 4.5),\n",
    "    'text.usetex': True,\n",
    "    'savefig.bbox': 'tight',\n",
    "    'savefig.pad_inches': 0.1,\n",
    "})"
   ]
  },
  {
   "cell_type": "code",
   "execution_count": 2,
   "outputs": [],
   "source": [
    "plot_dir = os.path.expanduser('~/Plots/by_dataset')\n",
    "os.makedirs(plot_dir, exist_ok=True)"
   ],
   "metadata": {
    "collapsed": false,
    "pycharm": {
     "name": "#%%\n"
    }
   }
  },
  {
   "cell_type": "code",
   "execution_count": 3,
   "outputs": [],
   "source": [
    "tests = {\n",
    "    'knn': knn_test,\n",
    "    'som': som_test,\n",
    "    'c2st_knn': c2s_knn_test,\n",
    "    'c2st_nn': c2s_nn_test,\n",
    "}"
   ],
   "metadata": {
    "collapsed": false,
    "pycharm": {
     "name": "#%%\n"
    }
   }
  },
  {
   "cell_type": "code",
   "execution_count": 4,
   "outputs": [
    {
     "data": {
      "text/plain": "{'R': 4262, 'I': 3804, 'C': 2870}"
     },
     "execution_count": 4,
     "metadata": {},
     "output_type": "execute_result"
    }
   ],
   "source": [
    "counts_per_label = EyeGenerator.count_per_label()\n",
    "counts_per_label"
   ],
   "metadata": {
    "collapsed": false,
    "pycharm": {
     "name": "#%%\n"
    }
   }
  },
  {
   "cell_type": "code",
   "execution_count": 5,
   "outputs": [],
   "source": [
    "generators = dict(\n",
    "    C=EyeGenerator('C'),\n",
    "    I=EyeGenerator('I'),\n",
    "    R=EyeGenerator('R'),\n",
    ")"
   ],
   "metadata": {
    "collapsed": false,
    "pycharm": {
     "name": "#%%\n"
    }
   }
  },
  {
   "cell_type": "markdown",
   "source": [
    "Comparing with\n",
    "\n",
    "*A Fast and Effective Large-Scale Two-Sample Test Based on Kernels*"
   ],
   "metadata": {
    "collapsed": false,
    "pycharm": {
     "name": "#%% md\n"
    }
   }
  },
  {
   "cell_type": "markdown",
   "source": [
    "# p-values\n",
    "As table 6, 0 is better (rejects they are equal). We cross-check also comparing sets with unbalanced sample sizes."
   ],
   "metadata": {
    "collapsed": false,
    "pycharm": {
     "name": "#%% md\n"
    }
   }
  },
  {
   "cell_type": "code",
   "execution_count": 6,
   "outputs": [],
   "source": [
    "pairwise = list(itertools.combinations(generators.keys(), 2))"
   ],
   "metadata": {
    "collapsed": false,
    "pycharm": {
     "name": "#%%\n"
    }
   }
  },
  {
   "cell_type": "code",
   "execution_count": 7,
   "outputs": [
    {
     "data": {
      "text/plain": "         knn       som  c2st_knn   c2st_nn\nC vs I   0.0       0.0       0.0       0.0\nC vs R   0.0       0.0       0.0       0.0\nI vs R   0.0       0.0    0.0002  0.024519\nC vs C  0.71  0.115106  0.000001  0.421786\nI vs I  0.17  0.742949       0.0       0.0\nR vs R  0.62  0.291653  0.000004       0.0",
      "text/html": "<div>\n<style scoped>\n    .dataframe tbody tr th:only-of-type {\n        vertical-align: middle;\n    }\n\n    .dataframe tbody tr th {\n        vertical-align: top;\n    }\n\n    .dataframe thead th {\n        text-align: right;\n    }\n</style>\n<table border=\"1\" class=\"dataframe\">\n  <thead>\n    <tr style=\"text-align: right;\">\n      <th></th>\n      <th>knn</th>\n      <th>som</th>\n      <th>c2st_knn</th>\n      <th>c2st_nn</th>\n    </tr>\n  </thead>\n  <tbody>\n    <tr>\n      <th>C vs I</th>\n      <td>0.0</td>\n      <td>0.0</td>\n      <td>0.0</td>\n      <td>0.0</td>\n    </tr>\n    <tr>\n      <th>C vs R</th>\n      <td>0.0</td>\n      <td>0.0</td>\n      <td>0.0</td>\n      <td>0.0</td>\n    </tr>\n    <tr>\n      <th>I vs R</th>\n      <td>0.0</td>\n      <td>0.0</td>\n      <td>0.0002</td>\n      <td>0.024519</td>\n    </tr>\n    <tr>\n      <th>C vs C</th>\n      <td>0.71</td>\n      <td>0.115106</td>\n      <td>0.000001</td>\n      <td>0.421786</td>\n    </tr>\n    <tr>\n      <th>I vs I</th>\n      <td>0.17</td>\n      <td>0.742949</td>\n      <td>0.0</td>\n      <td>0.0</td>\n    </tr>\n    <tr>\n      <th>R vs R</th>\n      <td>0.62</td>\n      <td>0.291653</td>\n      <td>0.000004</td>\n      <td>0.0</td>\n    </tr>\n  </tbody>\n</table>\n</div>"
     },
     "execution_count": 7,
     "metadata": {},
     "output_type": "execute_result"
    }
   ],
   "source": [
    "results = DataFrame(columns=tests.keys(),\n",
    "                    index=[f'{a} vs {b}' for a, b in pairwise] + [f'{a} vs {a}' for a in generators.keys()])\n",
    "for a, b in pairwise:\n",
    "    for test_name, test in tests.items():\n",
    "        results.loc[f'{a} vs {b}'][test_name] = test(generators[a].array, generators[b].array)\n",
    "for a in generators.keys():\n",
    "    for test_name, test in tests.items():\n",
    "        results.loc[f'{a} vs {a}'][test_name] = test(generators[a].sample(1000), generators[a].sample(2000))\n",
    "results"
   ],
   "metadata": {
    "collapsed": false,
    "pycharm": {
     "name": "#%%\n"
    }
   }
  },
  {
   "cell_type": "markdown",
   "source": [
    "# Power of the test\n",
    "As table 8, higher is better"
   ],
   "metadata": {
    "collapsed": false,
    "pycharm": {
     "name": "#%% md\n"
    }
   }
  },
  {
   "cell_type": "code",
   "execution_count": 8,
   "outputs": [
    {
     "data": {
      "text/plain": "2000"
     },
     "execution_count": 8,
     "metadata": {},
     "output_type": "execute_result"
    }
   ],
   "source": [
    "sample_sizes = np.array([100, 200, 250, 300, 400, 500, 2500, 5000, 10000])\n",
    "significance = 0.001\n",
    "repeat = int(2 * (1 / significance))\n",
    "repeat"
   ],
   "metadata": {
    "collapsed": false,
    "pycharm": {
     "name": "#%%\n"
    }
   }
  },
  {
   "cell_type": "markdown",
   "source": [
    "## I vs C"
   ],
   "metadata": {
    "collapsed": false,
    "pycharm": {
     "name": "#%% md\n"
    }
   }
  },
  {
   "cell_type": "code",
   "execution_count": 9,
   "outputs": [],
   "source": [
    "#ic_results = stat_errors_vs_sample_size(generators['I'], generators['C'], tests, sample_sizes, alpha=significance, repeat=repeat)\n",
    "#ic_results.to_csv(os.path.join(plot_dir, 'ic_results.csv'))\n",
    "ic_results = pandas.read_csv('../../results/sample_size/ic_results.csv', index_col=[0, 1])"
   ],
   "metadata": {
    "collapsed": false,
    "pycharm": {
     "name": "#%%\n"
    }
   }
  },
  {
   "cell_type": "code",
   "execution_count": 10,
   "outputs": [
    {
     "data": {
      "text/plain": "                  error1  error2      time   power\ntest     samples                                  \nknn      100      0.0065  0.0270  0.004112  0.9730\n         200      0.0085  0.0000  0.006147  1.0000\n         250      0.0125  0.0000  0.010050  1.0000\n         300      0.0110  0.0000  0.008149  1.0000\n         400      0.0095  0.0000  0.011076  1.0000\n         500      0.0100  0.0000  0.021772  1.0000\n         2500     0.0070  0.0000  0.112353  1.0000\n         5000     0.0085  0.0000  0.298800  1.0000\n         10000    0.0125  0.0000  0.574973  1.0000\nsom      100      0.0000  0.9575  0.022704  0.0425\n         200      0.0000  0.0530  0.027098  0.9470\n         250      0.0000  0.0060  0.047455  0.9940\n         300      0.0000  0.0000  0.036946  1.0000\n         400      0.0010  0.0000  0.045958  1.0000\n         500      0.0000  0.0000  0.070940  1.0000\n         2500     0.0005  0.0000  0.321815  1.0000\n         5000     0.0010  0.0000  0.663638  1.0000\n         10000    0.0000  0.0000  1.328999  1.0000\nc2st_knn 100      0.0010  0.8360  0.004290  0.1640\n         200      0.0030  0.4350  0.003851  0.5650\n         250      0.0010  0.2355  0.006355  0.7645\n         300      0.0005  0.1370  0.004595  0.8630\n         400      0.0010  0.0315  0.006874  0.9685\n         500      0.0005  0.0045  0.008762  0.9955\n         2500     0.0010  0.0000  0.114023  1.0000\n         5000     0.0015  0.0000  0.395949  1.0000\n         10000    0.0010  0.0000  1.435206  1.0000\nc2st_nn  100      0.0005  0.9210  0.191920  0.0790\n         200      0.0025  0.6510  0.238266  0.3490\n         250      0.0010  0.4125  0.344513  0.5875\n         300      0.0020  0.3555  0.225247  0.6445\n         400      0.0010  0.1175  0.260082  0.8825\n         500      0.0000  0.0485  0.276503  0.9515\n         2500     0.0010  0.0000  0.893767  1.0000\n         5000     0.0000  0.0000  1.581483  1.0000\n         10000    0.0000  0.0000  4.114443  1.0000",
      "text/html": "<div>\n<style scoped>\n    .dataframe tbody tr th:only-of-type {\n        vertical-align: middle;\n    }\n\n    .dataframe tbody tr th {\n        vertical-align: top;\n    }\n\n    .dataframe thead th {\n        text-align: right;\n    }\n</style>\n<table border=\"1\" class=\"dataframe\">\n  <thead>\n    <tr style=\"text-align: right;\">\n      <th></th>\n      <th></th>\n      <th>error1</th>\n      <th>error2</th>\n      <th>time</th>\n      <th>power</th>\n    </tr>\n    <tr>\n      <th>test</th>\n      <th>samples</th>\n      <th></th>\n      <th></th>\n      <th></th>\n      <th></th>\n    </tr>\n  </thead>\n  <tbody>\n    <tr>\n      <th rowspan=\"9\" valign=\"top\">knn</th>\n      <th>100</th>\n      <td>0.0065</td>\n      <td>0.0270</td>\n      <td>0.004112</td>\n      <td>0.9730</td>\n    </tr>\n    <tr>\n      <th>200</th>\n      <td>0.0085</td>\n      <td>0.0000</td>\n      <td>0.006147</td>\n      <td>1.0000</td>\n    </tr>\n    <tr>\n      <th>250</th>\n      <td>0.0125</td>\n      <td>0.0000</td>\n      <td>0.010050</td>\n      <td>1.0000</td>\n    </tr>\n    <tr>\n      <th>300</th>\n      <td>0.0110</td>\n      <td>0.0000</td>\n      <td>0.008149</td>\n      <td>1.0000</td>\n    </tr>\n    <tr>\n      <th>400</th>\n      <td>0.0095</td>\n      <td>0.0000</td>\n      <td>0.011076</td>\n      <td>1.0000</td>\n    </tr>\n    <tr>\n      <th>500</th>\n      <td>0.0100</td>\n      <td>0.0000</td>\n      <td>0.021772</td>\n      <td>1.0000</td>\n    </tr>\n    <tr>\n      <th>2500</th>\n      <td>0.0070</td>\n      <td>0.0000</td>\n      <td>0.112353</td>\n      <td>1.0000</td>\n    </tr>\n    <tr>\n      <th>5000</th>\n      <td>0.0085</td>\n      <td>0.0000</td>\n      <td>0.298800</td>\n      <td>1.0000</td>\n    </tr>\n    <tr>\n      <th>10000</th>\n      <td>0.0125</td>\n      <td>0.0000</td>\n      <td>0.574973</td>\n      <td>1.0000</td>\n    </tr>\n    <tr>\n      <th rowspan=\"9\" valign=\"top\">som</th>\n      <th>100</th>\n      <td>0.0000</td>\n      <td>0.9575</td>\n      <td>0.022704</td>\n      <td>0.0425</td>\n    </tr>\n    <tr>\n      <th>200</th>\n      <td>0.0000</td>\n      <td>0.0530</td>\n      <td>0.027098</td>\n      <td>0.9470</td>\n    </tr>\n    <tr>\n      <th>250</th>\n      <td>0.0000</td>\n      <td>0.0060</td>\n      <td>0.047455</td>\n      <td>0.9940</td>\n    </tr>\n    <tr>\n      <th>300</th>\n      <td>0.0000</td>\n      <td>0.0000</td>\n      <td>0.036946</td>\n      <td>1.0000</td>\n    </tr>\n    <tr>\n      <th>400</th>\n      <td>0.0010</td>\n      <td>0.0000</td>\n      <td>0.045958</td>\n      <td>1.0000</td>\n    </tr>\n    <tr>\n      <th>500</th>\n      <td>0.0000</td>\n      <td>0.0000</td>\n      <td>0.070940</td>\n      <td>1.0000</td>\n    </tr>\n    <tr>\n      <th>2500</th>\n      <td>0.0005</td>\n      <td>0.0000</td>\n      <td>0.321815</td>\n      <td>1.0000</td>\n    </tr>\n    <tr>\n      <th>5000</th>\n      <td>0.0010</td>\n      <td>0.0000</td>\n      <td>0.663638</td>\n      <td>1.0000</td>\n    </tr>\n    <tr>\n      <th>10000</th>\n      <td>0.0000</td>\n      <td>0.0000</td>\n      <td>1.328999</td>\n      <td>1.0000</td>\n    </tr>\n    <tr>\n      <th rowspan=\"9\" valign=\"top\">c2st_knn</th>\n      <th>100</th>\n      <td>0.0010</td>\n      <td>0.8360</td>\n      <td>0.004290</td>\n      <td>0.1640</td>\n    </tr>\n    <tr>\n      <th>200</th>\n      <td>0.0030</td>\n      <td>0.4350</td>\n      <td>0.003851</td>\n      <td>0.5650</td>\n    </tr>\n    <tr>\n      <th>250</th>\n      <td>0.0010</td>\n      <td>0.2355</td>\n      <td>0.006355</td>\n      <td>0.7645</td>\n    </tr>\n    <tr>\n      <th>300</th>\n      <td>0.0005</td>\n      <td>0.1370</td>\n      <td>0.004595</td>\n      <td>0.8630</td>\n    </tr>\n    <tr>\n      <th>400</th>\n      <td>0.0010</td>\n      <td>0.0315</td>\n      <td>0.006874</td>\n      <td>0.9685</td>\n    </tr>\n    <tr>\n      <th>500</th>\n      <td>0.0005</td>\n      <td>0.0045</td>\n      <td>0.008762</td>\n      <td>0.9955</td>\n    </tr>\n    <tr>\n      <th>2500</th>\n      <td>0.0010</td>\n      <td>0.0000</td>\n      <td>0.114023</td>\n      <td>1.0000</td>\n    </tr>\n    <tr>\n      <th>5000</th>\n      <td>0.0015</td>\n      <td>0.0000</td>\n      <td>0.395949</td>\n      <td>1.0000</td>\n    </tr>\n    <tr>\n      <th>10000</th>\n      <td>0.0010</td>\n      <td>0.0000</td>\n      <td>1.435206</td>\n      <td>1.0000</td>\n    </tr>\n    <tr>\n      <th rowspan=\"9\" valign=\"top\">c2st_nn</th>\n      <th>100</th>\n      <td>0.0005</td>\n      <td>0.9210</td>\n      <td>0.191920</td>\n      <td>0.0790</td>\n    </tr>\n    <tr>\n      <th>200</th>\n      <td>0.0025</td>\n      <td>0.6510</td>\n      <td>0.238266</td>\n      <td>0.3490</td>\n    </tr>\n    <tr>\n      <th>250</th>\n      <td>0.0010</td>\n      <td>0.4125</td>\n      <td>0.344513</td>\n      <td>0.5875</td>\n    </tr>\n    <tr>\n      <th>300</th>\n      <td>0.0020</td>\n      <td>0.3555</td>\n      <td>0.225247</td>\n      <td>0.6445</td>\n    </tr>\n    <tr>\n      <th>400</th>\n      <td>0.0010</td>\n      <td>0.1175</td>\n      <td>0.260082</td>\n      <td>0.8825</td>\n    </tr>\n    <tr>\n      <th>500</th>\n      <td>0.0000</td>\n      <td>0.0485</td>\n      <td>0.276503</td>\n      <td>0.9515</td>\n    </tr>\n    <tr>\n      <th>2500</th>\n      <td>0.0010</td>\n      <td>0.0000</td>\n      <td>0.893767</td>\n      <td>1.0000</td>\n    </tr>\n    <tr>\n      <th>5000</th>\n      <td>0.0000</td>\n      <td>0.0000</td>\n      <td>1.581483</td>\n      <td>1.0000</td>\n    </tr>\n    <tr>\n      <th>10000</th>\n      <td>0.0000</td>\n      <td>0.0000</td>\n      <td>4.114443</td>\n      <td>1.0000</td>\n    </tr>\n  </tbody>\n</table>\n</div>"
     },
     "execution_count": 10,
     "metadata": {},
     "output_type": "execute_result"
    }
   ],
   "source": [
    "ic_results['power'] = 1 - ic_results['error2']\n",
    "ic_results"
   ],
   "metadata": {
    "collapsed": false,
    "pycharm": {
     "name": "#%%\n"
    }
   }
  },
  {
   "cell_type": "markdown",
   "source": [
    "## I vs R"
   ],
   "metadata": {
    "collapsed": false,
    "pycharm": {
     "name": "#%% md\n"
    }
   }
  },
  {
   "cell_type": "code",
   "execution_count": 11,
   "outputs": [],
   "source": [
    "#ir_results = stat_errors_vs_sample_size(generators['I'], generators['R'], tests, sample_sizes, alpha=significance, repeat=repeat)\n",
    "#ir_results.to_csv('../../results/sample_size/ir_results.csv')\n",
    "ir_results = pandas.read_csv('../../results/sample_size/ir_results.csv', index_col=[0, 1])"
   ],
   "metadata": {
    "collapsed": false,
    "pycharm": {
     "name": "#%%\n"
    }
   }
  },
  {
   "cell_type": "markdown",
   "source": [
    "## R vs C"
   ],
   "metadata": {
    "collapsed": false,
    "pycharm": {
     "name": "#%% md\n"
    }
   }
  },
  {
   "cell_type": "code",
   "execution_count": 12,
   "outputs": [],
   "source": [
    "#rc_results = stat_errors_vs_sample_size(generators['R'], generators['C'], tests, sample_sizes, alpha=significance, repeat=repeat)\n",
    "#rc_results.to_csv(os.path.join(plot_dir, 'rc_results.csv'))\n",
    "rc_results = pandas.read_csv('../../results/sample_size/rc_results.csv', index_col=[0, 1])"
   ],
   "metadata": {
    "collapsed": false,
    "pycharm": {
     "name": "#%%\n"
    }
   }
  },
  {
   "cell_type": "code",
   "execution_count": 13,
   "outputs": [
    {
     "data": {
      "text/plain": "                  error1  error2      time   power\ntest     samples                                  \nknn      100      0.0075  0.1545  0.002952  0.8455\n         200      0.0095  0.0040  0.004884  0.9960\n         250      0.0090  0.0000  0.006434  1.0000\n         300      0.0075  0.0000  0.007739  1.0000\n         400      0.0085  0.0000  0.012024  1.0000\n         500      0.0115  0.0000  0.014093  1.0000\n         2500     0.0065  0.0000  0.114801  1.0000\n         5000     0.0085  0.0000  0.299806  1.0000\n         10000    0.0130  0.0000  2.282994  1.0000\nsom      100      0.0000  0.9930  0.013802  0.0070\n         200      0.0000  0.3275  0.023331  0.6725\n         250      0.0000  0.0760  0.028960  0.9240\n         300      0.0000  0.0125  0.034391  0.9875\n         400      0.0005  0.0000  0.050828  1.0000\n         500      0.0000  0.0000  0.055242  1.0000\n         2500     0.0010  0.0000  0.317472  1.0000\n         5000     0.0000  0.0000  0.649534  1.0000\n         10000    0.0005  0.0000  2.700976  1.0000\nc2st_knn 100      0.0005  0.9380  0.002264  0.0620\n         200      0.0030  0.7020  0.003236  0.2980\n         250      0.0010  0.5355  0.004094  0.4645\n         300      0.0020  0.4415  0.005496  0.5585\n         400      0.0015  0.1890  0.007293  0.8110\n         500      0.0000  0.0685  0.007896  0.9315\n         2500     0.0000  0.0000  0.110204  1.0000\n         5000     0.0010  0.0000  0.391197  1.0000\n         10000    0.0025  0.0000  2.780619  1.0000\nc2st_nn  100      0.0010  0.9770  0.123378  0.0230\n         200      0.0005  0.8605  0.207527  0.1395\n         250      0.0005  0.7565  0.217077  0.2435\n         300      0.0000  0.6855  0.217263  0.3145\n         400      0.0005  0.4400  0.257103  0.5600\n         500      0.0005  0.2740  0.256368  0.7260\n         2500     0.0005  0.0000  0.805451  1.0000\n         5000     0.0000  0.0010  1.877913  0.9990\n         10000    0.0000  0.0000  5.441658  1.0000",
      "text/html": "<div>\n<style scoped>\n    .dataframe tbody tr th:only-of-type {\n        vertical-align: middle;\n    }\n\n    .dataframe tbody tr th {\n        vertical-align: top;\n    }\n\n    .dataframe thead th {\n        text-align: right;\n    }\n</style>\n<table border=\"1\" class=\"dataframe\">\n  <thead>\n    <tr style=\"text-align: right;\">\n      <th></th>\n      <th></th>\n      <th>error1</th>\n      <th>error2</th>\n      <th>time</th>\n      <th>power</th>\n    </tr>\n    <tr>\n      <th>test</th>\n      <th>samples</th>\n      <th></th>\n      <th></th>\n      <th></th>\n      <th></th>\n    </tr>\n  </thead>\n  <tbody>\n    <tr>\n      <th rowspan=\"9\" valign=\"top\">knn</th>\n      <th>100</th>\n      <td>0.0075</td>\n      <td>0.1545</td>\n      <td>0.002952</td>\n      <td>0.8455</td>\n    </tr>\n    <tr>\n      <th>200</th>\n      <td>0.0095</td>\n      <td>0.0040</td>\n      <td>0.004884</td>\n      <td>0.9960</td>\n    </tr>\n    <tr>\n      <th>250</th>\n      <td>0.0090</td>\n      <td>0.0000</td>\n      <td>0.006434</td>\n      <td>1.0000</td>\n    </tr>\n    <tr>\n      <th>300</th>\n      <td>0.0075</td>\n      <td>0.0000</td>\n      <td>0.007739</td>\n      <td>1.0000</td>\n    </tr>\n    <tr>\n      <th>400</th>\n      <td>0.0085</td>\n      <td>0.0000</td>\n      <td>0.012024</td>\n      <td>1.0000</td>\n    </tr>\n    <tr>\n      <th>500</th>\n      <td>0.0115</td>\n      <td>0.0000</td>\n      <td>0.014093</td>\n      <td>1.0000</td>\n    </tr>\n    <tr>\n      <th>2500</th>\n      <td>0.0065</td>\n      <td>0.0000</td>\n      <td>0.114801</td>\n      <td>1.0000</td>\n    </tr>\n    <tr>\n      <th>5000</th>\n      <td>0.0085</td>\n      <td>0.0000</td>\n      <td>0.299806</td>\n      <td>1.0000</td>\n    </tr>\n    <tr>\n      <th>10000</th>\n      <td>0.0130</td>\n      <td>0.0000</td>\n      <td>2.282994</td>\n      <td>1.0000</td>\n    </tr>\n    <tr>\n      <th rowspan=\"9\" valign=\"top\">som</th>\n      <th>100</th>\n      <td>0.0000</td>\n      <td>0.9930</td>\n      <td>0.013802</td>\n      <td>0.0070</td>\n    </tr>\n    <tr>\n      <th>200</th>\n      <td>0.0000</td>\n      <td>0.3275</td>\n      <td>0.023331</td>\n      <td>0.6725</td>\n    </tr>\n    <tr>\n      <th>250</th>\n      <td>0.0000</td>\n      <td>0.0760</td>\n      <td>0.028960</td>\n      <td>0.9240</td>\n    </tr>\n    <tr>\n      <th>300</th>\n      <td>0.0000</td>\n      <td>0.0125</td>\n      <td>0.034391</td>\n      <td>0.9875</td>\n    </tr>\n    <tr>\n      <th>400</th>\n      <td>0.0005</td>\n      <td>0.0000</td>\n      <td>0.050828</td>\n      <td>1.0000</td>\n    </tr>\n    <tr>\n      <th>500</th>\n      <td>0.0000</td>\n      <td>0.0000</td>\n      <td>0.055242</td>\n      <td>1.0000</td>\n    </tr>\n    <tr>\n      <th>2500</th>\n      <td>0.0010</td>\n      <td>0.0000</td>\n      <td>0.317472</td>\n      <td>1.0000</td>\n    </tr>\n    <tr>\n      <th>5000</th>\n      <td>0.0000</td>\n      <td>0.0000</td>\n      <td>0.649534</td>\n      <td>1.0000</td>\n    </tr>\n    <tr>\n      <th>10000</th>\n      <td>0.0005</td>\n      <td>0.0000</td>\n      <td>2.700976</td>\n      <td>1.0000</td>\n    </tr>\n    <tr>\n      <th rowspan=\"9\" valign=\"top\">c2st_knn</th>\n      <th>100</th>\n      <td>0.0005</td>\n      <td>0.9380</td>\n      <td>0.002264</td>\n      <td>0.0620</td>\n    </tr>\n    <tr>\n      <th>200</th>\n      <td>0.0030</td>\n      <td>0.7020</td>\n      <td>0.003236</td>\n      <td>0.2980</td>\n    </tr>\n    <tr>\n      <th>250</th>\n      <td>0.0010</td>\n      <td>0.5355</td>\n      <td>0.004094</td>\n      <td>0.4645</td>\n    </tr>\n    <tr>\n      <th>300</th>\n      <td>0.0020</td>\n      <td>0.4415</td>\n      <td>0.005496</td>\n      <td>0.5585</td>\n    </tr>\n    <tr>\n      <th>400</th>\n      <td>0.0015</td>\n      <td>0.1890</td>\n      <td>0.007293</td>\n      <td>0.8110</td>\n    </tr>\n    <tr>\n      <th>500</th>\n      <td>0.0000</td>\n      <td>0.0685</td>\n      <td>0.007896</td>\n      <td>0.9315</td>\n    </tr>\n    <tr>\n      <th>2500</th>\n      <td>0.0000</td>\n      <td>0.0000</td>\n      <td>0.110204</td>\n      <td>1.0000</td>\n    </tr>\n    <tr>\n      <th>5000</th>\n      <td>0.0010</td>\n      <td>0.0000</td>\n      <td>0.391197</td>\n      <td>1.0000</td>\n    </tr>\n    <tr>\n      <th>10000</th>\n      <td>0.0025</td>\n      <td>0.0000</td>\n      <td>2.780619</td>\n      <td>1.0000</td>\n    </tr>\n    <tr>\n      <th rowspan=\"9\" valign=\"top\">c2st_nn</th>\n      <th>100</th>\n      <td>0.0010</td>\n      <td>0.9770</td>\n      <td>0.123378</td>\n      <td>0.0230</td>\n    </tr>\n    <tr>\n      <th>200</th>\n      <td>0.0005</td>\n      <td>0.8605</td>\n      <td>0.207527</td>\n      <td>0.1395</td>\n    </tr>\n    <tr>\n      <th>250</th>\n      <td>0.0005</td>\n      <td>0.7565</td>\n      <td>0.217077</td>\n      <td>0.2435</td>\n    </tr>\n    <tr>\n      <th>300</th>\n      <td>0.0000</td>\n      <td>0.6855</td>\n      <td>0.217263</td>\n      <td>0.3145</td>\n    </tr>\n    <tr>\n      <th>400</th>\n      <td>0.0005</td>\n      <td>0.4400</td>\n      <td>0.257103</td>\n      <td>0.5600</td>\n    </tr>\n    <tr>\n      <th>500</th>\n      <td>0.0005</td>\n      <td>0.2740</td>\n      <td>0.256368</td>\n      <td>0.7260</td>\n    </tr>\n    <tr>\n      <th>2500</th>\n      <td>0.0005</td>\n      <td>0.0000</td>\n      <td>0.805451</td>\n      <td>1.0000</td>\n    </tr>\n    <tr>\n      <th>5000</th>\n      <td>0.0000</td>\n      <td>0.0010</td>\n      <td>1.877913</td>\n      <td>0.9990</td>\n    </tr>\n    <tr>\n      <th>10000</th>\n      <td>0.0000</td>\n      <td>0.0000</td>\n      <td>5.441658</td>\n      <td>1.0000</td>\n    </tr>\n  </tbody>\n</table>\n</div>"
     },
     "execution_count": 13,
     "metadata": {},
     "output_type": "execute_result"
    }
   ],
   "source": [
    "rc_results['power'] = 1 - rc_results['error2']\n",
    "rc_results"
   ],
   "metadata": {
    "collapsed": false,
    "pycharm": {
     "name": "#%%\n"
    }
   }
  },
  {
   "cell_type": "markdown",
   "source": [
    "# Plot"
   ],
   "metadata": {
    "collapsed": false,
    "pycharm": {
     "name": "#%% md\n"
    }
   }
  },
  {
   "cell_type": "code",
   "execution_count": 16,
   "outputs": [
    {
     "data": {
      "text/plain": "<Figure size 432x288 with 10 Axes>",
      "image/png": "[encoded data removed]"
     },
     "metadata": {
      "needs_background": "light"
     },
     "output_type": "display_data"
    }
   ],
   "source": [
    "gs = GridSpec(nrows=4, ncols=3, height_ratios=[0.1] + [0.3] * 3, hspace=0.3, wspace=0.1)\n",
    "\n",
    "fig = plt.figure()\n",
    "\n",
    "# IR\n",
    "axes_ir = [fig.add_subplot(gs[1 + i, 0]) for i in range(3)]\n",
    "_ = plot_errors(ir_results, show_time=True, legend=False, fig=fig, axes=axes_ir, alpha=significance)\n",
    "axes_ir[0].set_title('EYE IR')\n",
    "\n",
    "# IC\n",
    "axes_ic = [fig.add_subplot(gs[1 + i, 1]) for i in range(3)]\n",
    "_ = plot_errors(ic_results, show_time=True, legend=False, fig=fig, axes=axes_ic, alpha=significance)\n",
    "axes_ic[0].set_title('EYE IC')\n",
    "\n",
    "# RC\n",
    "axes_rc = [fig.add_subplot(gs[1 + i, 2]) for i in range(3)]\n",
    "_ = plot_errors(rc_results, show_time=True, legend=False, fig=fig, axes=axes_rc, alpha=significance)\n",
    "axes_rc[0].set_title('EYE RC')\n",
    "\n",
    "# Legend\n",
    "ax_legend = fig.add_subplot(gs[0, :])\n",
    "ax_legend.legend(handles=axes_ir[0].get_legend_handles_labels()[0], loc='center', ncol=4)\n",
    "ax_legend.set_axis_off()\n",
    "\n",
    "for ax in itertools.chain(axes_ic, axes_rc):\n",
    "    ax.set_ylabel(None)\n",
    "    ax.set_yticklabels([])\n",
    "\n",
    "for i in range(3):\n",
    "    lock_axes(axes_ir[i], axes_ic[i], axes_rc[i])\n",
    "\n",
    "fig.savefig(os.path.join(plot_dir, 'eye.eps'))"
   ],
   "metadata": {
    "collapsed": false,
    "pycharm": {
     "name": "#%%\n"
    }
   }
  },
  {
   "cell_type": "markdown",
   "source": [
    "## I vs I\n",
    "\n",
    "Obviously this must report a low power, since it should **not** be able to reject $H_0$ (both distributions are the same!).\n",
    "This is a cross-check to verify the code is working as intended."
   ],
   "metadata": {
    "collapsed": false,
    "pycharm": {
     "name": "#%% md\n"
    }
   }
  },
  {
   "cell_type": "code",
   "execution_count": null,
   "outputs": [
    {
     "data": {
      "text/plain": "  0%|          | 0/36 [00:00<?, ?it/s]",
      "application/vnd.jupyter.widget-view+json": {
       "version_major": 2,
       "version_minor": 0,
       "model_id": "d74f9fd027b04161a64d49169897f71a"
      }
     },
     "metadata": {},
     "output_type": "display_data"
    }
   ],
   "source": [
    "ii_results = stat_errors_vs_sample_size(generators['I'], generators['I'], tests, sample_sizes, alpha=significance,\n",
    "                                        repeat=10)"
   ],
   "metadata": {
    "collapsed": false,
    "pycharm": {
     "name": "#%%\n",
     "is_executing": true
    }
   }
  },
  {
   "cell_type": "code",
   "execution_count": null,
   "outputs": [],
   "source": [
    "ii_results"
   ],
   "metadata": {
    "collapsed": false,
    "pycharm": {
     "name": "#%%\n",
     "is_executing": true
    }
   }
  },
  {
   "cell_type": "code",
   "execution_count": null,
   "outputs": [],
   "source": [],
   "metadata": {
    "collapsed": false,
    "pycharm": {
     "name": "#%%\n"
    }
   }
  }
 ],
 "metadata": {
  "kernelspec": {
   "display_name": "Python 3",
   "language": "python",
   "name": "python3"
  },
  "language_info": {
   "codemirror_mode": {
    "name": "ipython",
    "version": 2
   },
   "file_extension": ".py",
   "mimetype": "text/x-python",
   "name": "python",
   "nbconvert_exporter": "python",
   "pygments_lexer": "ipython2",
   "version": "2.7.6"
  }
 },
 "nbformat": 4,
 "nbformat_minor": 0
}