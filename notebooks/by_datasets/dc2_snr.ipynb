{
 "cells": [
  {
   "cell_type": "code",
   "execution_count": 8,
   "metadata": {
    "collapsed": true
   },
   "outputs": [],
   "source": [
    "import os\n",
    "import warnings\n",
    "\n",
    "import pandas\n",
    "\n",
    "warnings.simplefilter('ignore')\n",
    "\n",
    "import matplotlib.pyplot as plt\n",
    "from matplotlib.gridspec import GridSpec\n",
    "from soma.generators.dc2 import DC2Generator\n",
    "from soma.util.plot import plot_errors, lock_axes\n",
    "\n",
    "plt.style.use('seaborn')\n",
    "plt.style.use('seaborn-paper')\n",
    "plt.style.use('tableau-colorblind10')\n",
    "plt.rcParams.update({\n",
    "    'figure.figsize': (4.77, 4.77),\n",
    "    'text.usetex': True,\n",
    "    'savefig.bbox': 'tight',\n",
    "    'savefig.pad_inches': 0.1,\n",
    "})"
   ]
  },
  {
   "cell_type": "code",
   "execution_count": 2,
   "outputs": [],
   "source": [
    "plot_dir = os.path.expanduser('~/Plots/by_dataset')\n",
    "os.makedirs(plot_dir, exist_ok=True)"
   ],
   "metadata": {
    "collapsed": false,
    "pycharm": {
     "name": "#%%\n"
    }
   }
  },
  {
   "cell_type": "markdown",
   "source": [
    "# DC2 SNR Filtered"
   ],
   "metadata": {
    "collapsed": false,
    "pycharm": {
     "name": "#%% md\n"
    }
   }
  },
  {
   "cell_type": "code",
   "execution_count": 3,
   "outputs": [],
   "source": [
    "dc2 = DC2Generator()\n",
    "dc2_snr = DC2Generator(snr=10)"
   ],
   "metadata": {
    "collapsed": false,
    "pycharm": {
     "name": "#%%\n"
    }
   }
  },
  {
   "cell_type": "code",
   "execution_count": 4,
   "outputs": [],
   "source": [
    "#dc2_snr_sample = stat_errors_vs_sample_size(dc2_snr, dc2, tests, samples, repeat=repeat)\n",
    "#dc2_snr_sample.to_csv('../../results/sample_size/dc2_snr_results_samples.csv')\n",
    "dc2_snr_sample = pandas.read_csv('../../results/sample_size/dc2_snr_results_samples.csv', index_col=[0, 1])"
   ],
   "metadata": {
    "collapsed": false,
    "pycharm": {
     "name": "#%%\n"
    }
   }
  },
  {
   "cell_type": "code",
   "execution_count": 5,
   "outputs": [],
   "source": [
    "#dc2_snr_dim = stat_errors_vs_dimension(dc2_snr, dc2, tests, alpha=significance, samples=samples, repeat=repeat, step=10)\n",
    "#dc2_snr_dim.to_csv('../results/dimensionality/dc2_snr_dim.csv')\n",
    "dc2_snr_dim = pandas.read_csv('../../results/dimensionality/dc2_snr_dim.csv', index_col=[0, 1])"
   ],
   "metadata": {
    "collapsed": false,
    "pycharm": {
     "name": "#%%\n"
    }
   }
  },
  {
   "cell_type": "code",
   "execution_count": 5,
   "outputs": [],
   "source": [],
   "metadata": {
    "collapsed": false,
    "pycharm": {
     "name": "#%%\n"
    }
   }
  },
  {
   "cell_type": "code",
   "execution_count": null,
   "outputs": [],
   "source": [
    "gs = GridSpec(nrows=4, ncols=2, height_ratios=[0.1, 0.3, 0.3, 0.3], hspace=0.1)\n",
    "\n",
    "fig = plt.figure()\n",
    "\n",
    "axes_samples = [fig.add_subplot(gs[1+i, 0]) for i in range(3)]\n",
    "_ = plot_errors(dc2_snr_sample, logscale=True, show_time=True, legend=False, fig=fig, axes=axes_samples)\n",
    "\n",
    "axes_dim = [fig.add_subplot(gs[1+i, 1]) for i in range(3)]\n",
    "_ = plot_errors(dc2_snr_dim, logscale=True, show_time=True, legend=False, fig=fig, axes=axes_dim)\n",
    "\n",
    "for ax in axes_dim:\n",
    "    ax.set_ylabel(None)\n",
    "\n",
    "lock_axes(axes_samples[0], axes_dim[0])\n",
    "lock_axes(axes_samples[1], axes_dim[1])\n",
    "\n",
    "ax_legend = fig.add_subplot(gs[0, :])\n",
    "ax_legend.legend(handles=axes_dim[0].get_legend_handles_labels()[0], loc='center', ncol=4)\n",
    "ax_legend.set_axis_off()\n",
    "\n",
    "ax_legend.set_title('DC2 SNR Cutout')\n",
    "fig.savefig(os.path.join(plot_dir, 'dc2_snr.eps'))"
   ],
   "metadata": {
    "collapsed": false,
    "pycharm": {
     "name": "#%%\n",
     "is_executing": true
    }
   }
  },
  {
   "cell_type": "code",
   "execution_count": null,
   "outputs": [],
   "source": [],
   "metadata": {
    "collapsed": false,
    "pycharm": {
     "name": "#%%\n"
    }
   }
  }
 ],
 "metadata": {
  "kernelspec": {
   "display_name": "Python 3",
   "language": "python",
   "name": "python3"
  },
  "language_info": {
   "codemirror_mode": {
    "name": "ipython",
    "version": 2
   },
   "file_extension": ".py",
   "mimetype": "text/x-python",
   "name": "python",
   "nbconvert_exporter": "python",
   "pygments_lexer": "ipython2",
   "version": "2.7.6"
  }
 },
 "nbformat": 4,
 "nbformat_minor": 0
}