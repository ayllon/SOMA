{
 "cells": [
  {
   "cell_type": "code",
   "execution_count": 1,
   "metadata": {
    "collapsed": true
   },
   "outputs": [
    {
     "name": "stderr",
     "output_type": "stream",
     "text": [
      "/home/aalvarez/.local/lib/python3.9/site-packages/sklearn/utils/multiclass.py:13: DeprecationWarning: Please use `spmatrix` from the `scipy.sparse` namespace, the `scipy.sparse.base` namespace is deprecated.\n",
      "  from scipy.sparse.base import spmatrix\n",
      "/home/aalvarez/.local/lib/python3.9/site-packages/sklearn/utils/optimize.py:18: DeprecationWarning: Please use `line_search_wolfe2` from the `scipy.optimize` namespace, the `scipy.optimize.linesearch` namespace is deprecated.\n",
      "  from scipy.optimize.linesearch import line_search_wolfe2, line_search_wolfe1\n",
      "/home/aalvarez/.local/lib/python3.9/site-packages/sklearn/utils/optimize.py:18: DeprecationWarning: Please use `line_search_wolfe1` from the `scipy.optimize` namespace, the `scipy.optimize.linesearch` namespace is deprecated.\n",
      "  from scipy.optimize.linesearch import line_search_wolfe2, line_search_wolfe1\n"
     ]
    }
   ],
   "source": [
    "import os\n",
    "os.environ['CUDAHOME'] = '/usr/local/cuda'\n",
    "\n",
    "from tqdm.auto import tqdm\n",
    "%matplotlib inline\n",
    "import matplotlib.pyplot as plt\n",
    "import numpy as np\n",
    "\n",
    "from sklearn.model_selection import KFold, cross_val_score\n",
    "from soma.generators.age import AgeGenerator\n",
    "from soma.tests.som import som_test\n",
    "\n",
    "plt.style.use('seaborn')\n",
    "plt.style.use('seaborn-paper')"
   ]
  },
  {
   "cell_type": "code",
   "execution_count": 2,
   "outputs": [],
   "source": [
    "brackets = [\n",
    "    (15, 20), (20, 25), (25, 30), (30, 35), (35, 40), (40, 45), (45, 50)\n",
    "]\n",
    "compare = list(zip(brackets[:-1], brackets[1:]))"
   ],
   "metadata": {
    "collapsed": false,
    "pycharm": {
     "name": "#%%\n"
    }
   }
  },
  {
   "cell_type": "code",
   "execution_count": 3,
   "outputs": [],
   "source": [
    "from sklearn.base import BaseEstimator, ClassifierMixin\n",
    "\n",
    "\n",
    "class SOMWrapper(BaseEstimator, ClassifierMixin):\n",
    "    def __init__(self, size=(20, 15)):\n",
    "        super(SOMWrapper, self).__init__()\n",
    "        self.__size = size\n",
    "        self.__p = None\n",
    "        self.__som = None\n",
    "        self.__class = None\n",
    "\n",
    "    def get_params(self, deep: bool = False):\n",
    "        return {'size': self.__size}\n",
    "\n",
    "    def set_params(self, size):\n",
    "        self.__size = size\n",
    "\n",
    "    def fit(self, X, y):\n",
    "        self.__p, self.__som, (count1, count2) = som_test(X[y == 0], X[y == 1], ret_counts=True, ret_som=True,\n",
    "                                                          size=self.__size, kerneltype=1)\n",
    "        self.__class = (count2 > count1).astype(int).T\n",
    "        return self\n",
    "\n",
    "    def predict(self, X):\n",
    "        bmus = self.__som.get_bmus(self.__som.get_surface_state(X))\n",
    "        return self.__class[bmus[:, 0], bmus[:, 1]]"
   ],
   "metadata": {
    "collapsed": false,
    "pycharm": {
     "name": "#%%\n"
    }
   }
  },
  {
   "cell_type": "code",
   "execution_count": 4,
   "outputs": [
    {
     "data": {
      "text/plain": "  0%|          | 0/6 [00:00<?, ?it/s]",
      "application/vnd.jupyter.widget-view+json": {
       "version_major": 2,
       "version_minor": 0,
       "model_id": "b7131f9129c54070b7f0ef9aa741ce9e"
      }
     },
     "metadata": {},
     "output_type": "display_data"
    },
    {
     "name": "stdout",
     "output_type": "stream",
     "text": [
      "(15, 20) (20, 25) 0.6 0.02517141235608366\n",
      "(20, 25) (25, 30) 0.5688 0.03518181348367362\n",
      "(25, 30) (30, 35) 0.5512 0.017232527382830397\n",
      "(30, 35) (35, 40) 0.536 0.024265201420964957\n",
      "(35, 40) (40, 45) 0.524 0.02478709341572749\n",
      "(40, 45) (45, 50) 0.556 0.022908513701242136\n"
     ]
    }
   ],
   "source": [
    "kfold = KFold(n_splits=5, random_state=None, shuffle=True)\n",
    "sample_size = 625\n",
    "\n",
    "for ba, bb in tqdm(compare):\n",
    "    sample_a = AgeGenerator(*ba).sample(sample_size)\n",
    "    sample_b = AgeGenerator(*bb).sample(sample_size)\n",
    "\n",
    "    X = np.concatenate([sample_a, sample_b])\n",
    "    y = np.repeat([0, 1], sample_size)\n",
    "\n",
    "    scores = cross_val_score(SOMWrapper(size=(20, 15)), X, y, scoring='accuracy', cv=kfold, n_jobs=1,\n",
    "                             error_score='raise')\n",
    "    print(ba, bb, np.mean(scores), np.std(scores))"
   ],
   "metadata": {
    "collapsed": false,
    "pycharm": {
     "name": "#%%\n"
    }
   }
  },
  {
   "cell_type": "code",
   "execution_count": 5,
   "outputs": [
    {
     "data": {
      "text/plain": "  0%|          | 0/6 [00:00<?, ?it/s]",
      "application/vnd.jupyter.widget-view+json": {
       "version_major": 2,
       "version_minor": 0,
       "model_id": "9c15e0fb7980423da218280cc14f425a"
      }
     },
     "metadata": {},
     "output_type": "display_data"
    },
    {
     "name": "stdout",
     "output_type": "stream",
     "text": [
      "(15, 20) (20, 25) 0.6554 0.003799999999999996\n",
      "(20, 25) (25, 30) 0.6196999999999999 0.0033105890714493586\n",
      "(25, 30) (30, 35) 0.6008 0.010181355508968372\n",
      "(30, 35) (35, 40) 0.5912 0.016289874155437815\n",
      "(35, 40) (40, 45) 0.5835999999999999 0.00939893611000736\n",
      "(40, 45) (45, 50) 0.5887 0.008213403679352409\n"
     ]
    }
   ],
   "source": [
    "kfold = KFold(n_splits=5, random_state=None, shuffle=True)\n",
    "sample_size = 5000\n",
    "\n",
    "for ba, bb in tqdm(compare):\n",
    "    sample_a = AgeGenerator(*ba).sample(sample_size)\n",
    "    sample_b = AgeGenerator(*bb).sample(sample_size)\n",
    "\n",
    "    X = np.concatenate([sample_a, sample_b])\n",
    "    y = np.repeat([0, 1], sample_size)\n",
    "\n",
    "    scores = cross_val_score(SOMWrapper(size=(20, 15)), X, y, scoring='accuracy', cv=kfold, n_jobs=1,\n",
    "                             error_score='raise')\n",
    "    print(ba, bb, np.mean(scores), np.std(scores))"
   ],
   "metadata": {
    "collapsed": false,
    "pycharm": {
     "name": "#%%\n"
    }
   }
  },
  {
   "cell_type": "code",
   "execution_count": null,
   "outputs": [],
   "source": [],
   "metadata": {
    "collapsed": false,
    "pycharm": {
     "name": "#%%\n"
    }
   }
  }
 ],
 "metadata": {
  "kernelspec": {
   "display_name": "Python 3",
   "language": "python",
   "name": "python3"
  },
  "language_info": {
   "codemirror_mode": {
    "name": "ipython",
    "version": 2
   },
   "file_extension": ".py",
   "mimetype": "text/x-python",
   "name": "python",
   "nbconvert_exporter": "python",
   "pygments_lexer": "ipython2",
   "version": "2.7.6"
  }
 },
 "nbformat": 4,
 "nbformat_minor": 0
}